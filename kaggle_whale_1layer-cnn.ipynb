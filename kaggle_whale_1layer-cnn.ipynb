{
 "cells": [
  {
   "cell_type": "markdown",
   "metadata": {},
   "source": [
    "## Kaggle Humpback Whale Identification"
   ]
  },
  {
   "cell_type": "code",
   "execution_count": 1,
   "metadata": {},
   "outputs": [
    {
     "name": "stderr",
     "output_type": "stream",
     "text": [
      "C:\\Users\\Naruhiko\\Anaconda3\\envs\\carnd-term1\\lib\\importlib\\_bootstrap.py:222: RuntimeWarning: numpy.dtype size changed, may indicate binary incompatibility. Expected 96, got 88\n",
      "  return f(*args, **kwds)\n",
      "C:\\Users\\Naruhiko\\Anaconda3\\envs\\carnd-term1\\lib\\importlib\\_bootstrap.py:222: RuntimeWarning: numpy.dtype size changed, may indicate binary incompatibility. Expected 96, got 88\n",
      "  return f(*args, **kwds)\n",
      "Using TensorFlow backend.\n"
     ]
    }
   ],
   "source": [
    "import numpy as np \n",
    "import pandas as pd \n",
    "import os\n",
    "import matplotlib.pyplot as plt\n",
    "import matplotlib.image as mplimg\n",
    "from matplotlib.pyplot import imshow\n",
    "\n",
    "from sklearn.preprocessing import LabelEncoder\n",
    "from sklearn.preprocessing import OneHotEncoder\n",
    "\n",
    "from keras import layers\n",
    "from keras.preprocessing import image\n",
    "from keras.applications.imagenet_utils import preprocess_input\n",
    "from keras.layers import Input, Dense, Activation, BatchNormalization, Flatten, Conv2D\n",
    "from keras.layers import AveragePooling2D, MaxPooling2D, Dropout\n",
    "from keras.models import Model\n",
    "\n",
    "import keras.backend as K\n",
    "from keras.models import Sequential\n",
    "\n",
    "import warnings\n",
    "warnings.simplefilter(\"ignore\", category=DeprecationWarning)"
   ]
  },
  {
   "cell_type": "code",
   "execution_count": 2,
   "metadata": {},
   "outputs": [
    {
     "name": "stdout",
     "output_type": "stream",
     "text": [
      "1.12.0\n"
     ]
    }
   ],
   "source": [
    "import tensorflow as tf\n",
    "print(tf.__version__)"
   ]
  },
  {
   "cell_type": "code",
   "execution_count": 3,
   "metadata": {},
   "outputs": [
    {
     "data": {
      "text/plain": [
       "['sample_submission.csv', 'test', 'train', 'train.csv']"
      ]
     },
     "execution_count": 3,
     "metadata": {},
     "output_type": "execute_result"
    }
   ],
   "source": [
    "os.listdir(\"./input/\")"
   ]
  },
  {
   "cell_type": "code",
   "execution_count": 4,
   "metadata": {},
   "outputs": [
    {
     "data": {
      "text/html": [
       "<div>\n",
       "<style scoped>\n",
       "    .dataframe tbody tr th:only-of-type {\n",
       "        vertical-align: middle;\n",
       "    }\n",
       "\n",
       "    .dataframe tbody tr th {\n",
       "        vertical-align: top;\n",
       "    }\n",
       "\n",
       "    .dataframe thead th {\n",
       "        text-align: right;\n",
       "    }\n",
       "</style>\n",
       "<table border=\"1\" class=\"dataframe\">\n",
       "  <thead>\n",
       "    <tr style=\"text-align: right;\">\n",
       "      <th></th>\n",
       "      <th>Image</th>\n",
       "      <th>Id</th>\n",
       "    </tr>\n",
       "  </thead>\n",
       "  <tbody>\n",
       "    <tr>\n",
       "      <th>0</th>\n",
       "      <td>0000e88ab.jpg</td>\n",
       "      <td>w_f48451c</td>\n",
       "    </tr>\n",
       "    <tr>\n",
       "      <th>1</th>\n",
       "      <td>0001f9222.jpg</td>\n",
       "      <td>w_c3d896a</td>\n",
       "    </tr>\n",
       "    <tr>\n",
       "      <th>2</th>\n",
       "      <td>00029d126.jpg</td>\n",
       "      <td>w_20df2c5</td>\n",
       "    </tr>\n",
       "    <tr>\n",
       "      <th>3</th>\n",
       "      <td>00050a15a.jpg</td>\n",
       "      <td>new_whale</td>\n",
       "    </tr>\n",
       "    <tr>\n",
       "      <th>4</th>\n",
       "      <td>0005c1ef8.jpg</td>\n",
       "      <td>new_whale</td>\n",
       "    </tr>\n",
       "  </tbody>\n",
       "</table>\n",
       "</div>"
      ],
      "text/plain": [
       "           Image         Id\n",
       "0  0000e88ab.jpg  w_f48451c\n",
       "1  0001f9222.jpg  w_c3d896a\n",
       "2  00029d126.jpg  w_20df2c5\n",
       "3  00050a15a.jpg  new_whale\n",
       "4  0005c1ef8.jpg  new_whale"
      ]
     },
     "execution_count": 4,
     "metadata": {},
     "output_type": "execute_result"
    }
   ],
   "source": [
    "train_df = pd.read_csv(\"./input/train.csv\")\n",
    "train_df.head()"
   ]
  },
  {
   "cell_type": "code",
   "execution_count": 5,
   "metadata": {
    "collapsed": true
   },
   "outputs": [],
   "source": [
    "def prepareImages(data, m, dataset):\n",
    "    print(\"Preparing images\")\n",
    "    X_train = np.zeros((m, 100, 100, 3))\n",
    "    count = 0\n",
    "    \n",
    "    for fig in data['Image']:\n",
    "        #load images into images of size 100x100x3\n",
    "        img = image.load_img(\"./input/\"+dataset+\"/\"+fig, target_size=(100, 100, 3))\n",
    "        x = image.img_to_array(img)\n",
    "        x = preprocess_input(x)\n",
    "\n",
    "        X_train[count] = x\n",
    "        if (count%500 == 0):\n",
    "            print(\"Processing image: \", count+1, \", \", fig)\n",
    "        count += 1\n",
    "    \n",
    "    return X_train"
   ]
  },
  {
   "cell_type": "code",
   "execution_count": 6,
   "metadata": {
    "collapsed": true
   },
   "outputs": [],
   "source": [
    "def prepare_labels(y):\n",
    "    values = np.array(y)\n",
    "    label_encoder = LabelEncoder()\n",
    "    integer_encoded = label_encoder.fit_transform(values)\n",
    "\n",
    "    onehot_encoder = OneHotEncoder(sparse=False)\n",
    "    integer_encoded = integer_encoded.reshape(len(integer_encoded), 1)\n",
    "    onehot_encoded = onehot_encoder.fit_transform(integer_encoded)\n",
    "\n",
    "    y = onehot_encoded\n",
    "\n",
    "    return y, label_encoder"
   ]
  },
  {
   "cell_type": "code",
   "execution_count": 7,
   "metadata": {},
   "outputs": [
    {
     "name": "stdout",
     "output_type": "stream",
     "text": [
      "Preparing images\n",
      "Processing image:  1 ,  0000e88ab.jpg\n",
      "Processing image:  501 ,  04c72257b.jpg\n",
      "Processing image:  1001 ,  09cacb84d.jpg\n",
      "Processing image:  1501 ,  0ef961892.jpg\n",
      "Processing image:  2001 ,  141b56a1a.jpg\n",
      "Processing image:  2501 ,  199a417aa.jpg\n",
      "Processing image:  3001 ,  1ec170983.jpg\n",
      "Processing image:  3501 ,  23f084b93.jpg\n",
      "Processing image:  4001 ,  29163ad0b.jpg\n",
      "Processing image:  4501 ,  2e0fab120.jpg\n",
      "Processing image:  5001 ,  3347515d9.jpg\n",
      "Processing image:  5501 ,  3842d71dc.jpg\n",
      "Processing image:  6001 ,  3d7f4c7d5.jpg\n",
      "Processing image:  6501 ,  425f763ca.jpg\n",
      "Processing image:  7001 ,  4714400cd.jpg\n",
      "Processing image:  7501 ,  4c082fbdf.jpg\n",
      "Processing image:  8001 ,  50c683e23.jpg\n",
      "Processing image:  8501 ,  560d986ad.jpg\n",
      "Processing image:  9001 ,  5b68c83ed.jpg\n",
      "Processing image:  9501 ,  60410f111.jpg\n",
      "Processing image:  10001 ,  654951f81.jpg\n",
      "Processing image:  10501 ,  6a572256c.jpg\n",
      "Processing image:  11001 ,  6f96f55b6.jpg\n",
      "Processing image:  11501 ,  74da2b511.jpg\n",
      "Processing image:  12001 ,  7989d9a27.jpg\n",
      "Processing image:  12501 ,  7e5aa2d8a.jpg\n",
      "Processing image:  13001 ,  832382cfb.jpg\n",
      "Processing image:  13501 ,  87f6c0a15.jpg\n",
      "Processing image:  14001 ,  8cfc22e5d.jpg\n",
      "Processing image:  14501 ,  91dcfedcd.jpg\n",
      "Processing image:  15001 ,  97079398e.jpg\n",
      "Processing image:  15501 ,  9c2ad64a9.jpg\n",
      "Processing image:  16001 ,  a11956dff.jpg\n",
      "Processing image:  16501 ,  a5f9ffe86.jpg\n",
      "Processing image:  17001 ,  aaf1a967b.jpg\n",
      "Processing image:  17501 ,  af9a1ffc6.jpg\n",
      "Processing image:  18001 ,  b4e02531d.jpg\n",
      "Processing image:  18501 ,  ba2355ca6.jpg\n",
      "Processing image:  19001 ,  bf60e7fed.jpg\n",
      "Processing image:  19501 ,  c49f39ce3.jpg\n",
      "Processing image:  20001 ,  c960111d0.jpg\n",
      "Processing image:  20501 ,  ce7984d8a.jpg\n",
      "Processing image:  21001 ,  d38efaec9.jpg\n",
      "Processing image:  21501 ,  d831d28ee.jpg\n",
      "Processing image:  22001 ,  dd3ca2387.jpg\n",
      "Processing image:  22501 ,  e288d66cf.jpg\n",
      "Processing image:  23001 ,  e7cc793db.jpg\n",
      "Processing image:  23501 ,  ec8c7229d.jpg\n",
      "Processing image:  24001 ,  f1b850552.jpg\n",
      "Processing image:  24501 ,  f6af8a4b8.jpg\n",
      "Processing image:  25001 ,  fc09f2302.jpg\n"
     ]
    }
   ],
   "source": [
    "X = prepareImages(train_df, train_df.shape[0], \"train\")\n",
    "X /= 255"
   ]
  },
  {
   "cell_type": "code",
   "execution_count": 8,
   "metadata": {
    "collapsed": true
   },
   "outputs": [],
   "source": [
    "y, label_encoder = prepare_labels(train_df['Id'])"
   ]
  },
  {
   "cell_type": "code",
   "execution_count": 9,
   "metadata": {},
   "outputs": [
    {
     "data": {
      "text/plain": [
       "(25361, 5005)"
      ]
     },
     "execution_count": 9,
     "metadata": {},
     "output_type": "execute_result"
    }
   ],
   "source": [
    "y.shape"
   ]
  },
  {
   "cell_type": "code",
   "execution_count": 10,
   "metadata": {
    "collapsed": true
   },
   "outputs": [],
   "source": [
    "def top_5_accuracy(y_true, y_pred):\n",
    "    return top_k_categorical_accuracy(y_true, y_pred, k=5)"
   ]
  },
  {
   "cell_type": "code",
   "execution_count": 11,
   "metadata": {
    "collapsed": true
   },
   "outputs": [],
   "source": [
    "from keras.optimizers import adam\n",
    "from keras.metrics import categorical_accuracy, top_k_categorical_accuracy, categorical_crossentropy\n",
    "\n",
    "model = Sequential()\n",
    "\n",
    "model.add(Conv2D(32, (7, 7), strides = (1, 1), name = 'conv0', input_shape = (100, 100, 3)))\n",
    "\n",
    "model.add(BatchNormalization(axis = 3, name = 'bn0'))\n",
    "\n",
    "model.add(Activation('relu'))\n",
    "model.add(MaxPooling2D((2, 2), name='max_pool'))\n",
    "\n",
    "model.add(Flatten())\n",
    "model.add(Dense(500, activation=\"relu\", name='rl'))\n",
    "model.add(Dropout(0.8))\n",
    "\n",
    "model.add(Dense(y.shape[1], activation='softmax', name='sm'))\n",
    "\n",
    "model.compile(optimizer=adam(lr=0.001), loss='categorical_crossentropy',\n",
    "              metrics=[categorical_accuracy, top_5_accuracy])"
   ]
  },
  {
   "cell_type": "code",
   "execution_count": 12,
   "metadata": {},
   "outputs": [
    {
     "name": "stdout",
     "output_type": "stream",
     "text": [
      "_________________________________________________________________\n",
      "Layer (type)                 Output Shape              Param #   \n",
      "=================================================================\n",
      "conv0 (Conv2D)               (None, 94, 94, 32)        4736      \n",
      "_________________________________________________________________\n",
      "bn0 (BatchNormalization)     (None, 94, 94, 32)        128       \n",
      "_________________________________________________________________\n",
      "activation_1 (Activation)    (None, 94, 94, 32)        0         \n",
      "_________________________________________________________________\n",
      "max_pool (MaxPooling2D)      (None, 47, 47, 32)        0         \n",
      "_________________________________________________________________\n",
      "flatten_1 (Flatten)          (None, 70688)             0         \n",
      "_________________________________________________________________\n",
      "rl (Dense)                   (None, 500)               35344500  \n",
      "_________________________________________________________________\n",
      "dropout_1 (Dropout)          (None, 500)               0         \n",
      "_________________________________________________________________\n",
      "sm (Dense)                   (None, 5005)              2507505   \n",
      "=================================================================\n",
      "Total params: 37,856,869\n",
      "Trainable params: 37,856,805\n",
      "Non-trainable params: 64\n",
      "_________________________________________________________________\n"
     ]
    }
   ],
   "source": [
    "model.summary()"
   ]
  },
  {
   "cell_type": "code",
   "execution_count": 13,
   "metadata": {},
   "outputs": [
    {
     "name": "stdout",
     "output_type": "stream",
     "text": [
      "Epoch 1/100\n",
      "25361/25361 [==============================] - 1486s 59ms/step - loss: 9.9752 - categorical_accuracy: 0.3788 - top_5_accuracy: 0.9918\n",
      "Epoch 2/100\n",
      "25361/25361 [==============================] - 1481s 58ms/step - loss: 9.9762 - categorical_accuracy: 0.3811 - top_5_accuracy: 1.0000\n",
      "Epoch 3/100\n",
      "25361/25361 [==============================] - 1498s 59ms/step - loss: 9.9762 - categorical_accuracy: 0.3811 - top_5_accuracy: 1.0000\n",
      "Epoch 4/100\n",
      "25361/25361 [==============================] - 1497s 59ms/step - loss: 9.9762 - categorical_accuracy: 0.3811 - top_5_accuracy: 1.0000\n",
      "Epoch 5/100\n",
      "25361/25361 [==============================] - 1497s 59ms/step - loss: 9.9762 - categorical_accuracy: 0.3811 - top_5_accuracy: 1.0000\n",
      "Epoch 6/100\n",
      "25361/25361 [==============================] - 1508s 59ms/step - loss: 9.9762 - categorical_accuracy: 0.3811 - top_5_accuracy: 1.0000\n",
      "Epoch 7/100\n",
      "25361/25361 [==============================] - 1493s 59ms/step - loss: 9.9762 - categorical_accuracy: 0.3811 - top_5_accuracy: 1.0000\n",
      "Epoch 8/100\n",
      "25361/25361 [==============================] - 1498s 59ms/step - loss: 9.9762 - categorical_accuracy: 0.3811 - top_5_accuracy: 1.0000\n",
      "Epoch 9/100\n",
      "25361/25361 [==============================] - 1506s 59ms/step - loss: 9.9762 - categorical_accuracy: 0.3811 - top_5_accuracy: 1.0000\n",
      "Epoch 10/100\n",
      "25361/25361 [==============================] - 1501s 59ms/step - loss: 9.9762 - categorical_accuracy: 0.3811 - top_5_accuracy: 1.0000\n",
      "Epoch 11/100\n",
      "25361/25361 [==============================] - 1485s 59ms/step - loss: 9.9762 - categorical_accuracy: 0.3811 - top_5_accuracy: 1.0000\n",
      "Epoch 12/100\n",
      "25361/25361 [==============================] - 1523s 60ms/step - loss: 9.9762 - categorical_accuracy: 0.3811 - top_5_accuracy: 1.0000\n",
      "Epoch 13/100\n",
      "25361/25361 [==============================] - 1504s 59ms/step - loss: 9.9762 - categorical_accuracy: 0.3811 - top_5_accuracy: 1.0000\n",
      "Epoch 14/100\n",
      "25361/25361 [==============================] - 1483s 58ms/step - loss: 9.9762 - categorical_accuracy: 0.3811 - top_5_accuracy: 1.0000\n",
      "Epoch 15/100\n",
      "25361/25361 [==============================] - 1515s 60ms/step - loss: 9.9762 - categorical_accuracy: 0.3811 - top_5_accuracy: 1.0000\n",
      "Epoch 16/100\n",
      "25361/25361 [==============================] - 1494s 59ms/step - loss: 9.9762 - categorical_accuracy: 0.3811 - top_5_accuracy: 1.0000\n",
      "Epoch 17/100\n",
      "25361/25361 [==============================] - 1490s 59ms/step - loss: 9.9762 - categorical_accuracy: 0.3811 - top_5_accuracy: 1.0000\n",
      "Epoch 18/100\n",
      "25361/25361 [==============================] - 1496s 59ms/step - loss: 9.9762 - categorical_accuracy: 0.3811 - top_5_accuracy: 1.0000\n",
      "Epoch 19/100\n",
      "25361/25361 [==============================] - 1499s 59ms/step - loss: 9.9762 - categorical_accuracy: 0.3811 - top_5_accuracy: 1.0000\n",
      "Epoch 20/100\n",
      "25361/25361 [==============================] - 1494s 59ms/step - loss: 9.9762 - categorical_accuracy: 0.3811 - top_5_accuracy: 1.0000\n",
      "Epoch 21/100\n",
      "25361/25361 [==============================] - 1502s 59ms/step - loss: 9.9762 - categorical_accuracy: 0.3811 - top_5_accuracy: 1.0000\n",
      "Epoch 22/100\n",
      "25361/25361 [==============================] - 1485s 59ms/step - loss: 9.9762 - categorical_accuracy: 0.3811 - top_5_accuracy: 1.0000\n",
      "Epoch 23/100\n",
      "25361/25361 [==============================] - 1485s 59ms/step - loss: 9.9762 - categorical_accuracy: 0.3811 - top_5_accuracy: 1.0000\n",
      "Epoch 24/100\n",
      "25361/25361 [==============================] - 1507s 59ms/step - loss: 9.9762 - categorical_accuracy: 0.3811 - top_5_accuracy: 1.0000\n",
      "Epoch 25/100\n",
      "25361/25361 [==============================] - 1497s 59ms/step - loss: 9.9762 - categorical_accuracy: 0.3811 - top_5_accuracy: 1.0000\n",
      "Epoch 26/100\n",
      "25361/25361 [==============================] - 1481s 58ms/step - loss: 9.9762 - categorical_accuracy: 0.3811 - top_5_accuracy: 1.0000\n",
      "Epoch 27/100\n",
      "25361/25361 [==============================] - 1492s 59ms/step - loss: 9.9762 - categorical_accuracy: 0.3811 - top_5_accuracy: 1.0000\n",
      "Epoch 28/100\n",
      "25361/25361 [==============================] - 1500s 59ms/step - loss: 9.9762 - categorical_accuracy: 0.3811 - top_5_accuracy: 1.0000\n",
      "Epoch 29/100\n",
      "25361/25361 [==============================] - 1473s 58ms/step - loss: 9.9762 - categorical_accuracy: 0.3811 - top_5_accuracy: 1.0000\n",
      "Epoch 30/100\n",
      "25361/25361 [==============================] - 1509s 60ms/step - loss: 9.9762 - categorical_accuracy: 0.3811 - top_5_accuracy: 1.0000\n",
      "Epoch 31/100\n",
      "25361/25361 [==============================] - 1480s 58ms/step - loss: 9.9762 - categorical_accuracy: 0.3811 - top_5_accuracy: 1.0000\n",
      "Epoch 32/100\n",
      "25361/25361 [==============================] - 1466s 58ms/step - loss: 9.9762 - categorical_accuracy: 0.3811 - top_5_accuracy: 1.0000\n",
      "Epoch 33/100\n",
      "25361/25361 [==============================] - 1487s 59ms/step - loss: 9.9762 - categorical_accuracy: 0.3811 - top_5_accuracy: 1.0000\n",
      "Epoch 34/100\n",
      "25361/25361 [==============================] - 1474s 58ms/step - loss: 9.9762 - categorical_accuracy: 0.3811 - top_5_accuracy: 1.0000\n",
      "Epoch 35/100\n",
      "25361/25361 [==============================] - 1470s 58ms/step - loss: 9.9762 - categorical_accuracy: 0.3811 - top_5_accuracy: 1.0000\n",
      "Epoch 36/100\n",
      "25361/25361 [==============================] - 1466s 58ms/step - loss: 9.9762 - categorical_accuracy: 0.3811 - top_5_accuracy: 1.0000\n",
      "Epoch 37/100\n",
      "25361/25361 [==============================] - 1455s 57ms/step - loss: 9.9762 - categorical_accuracy: 0.3811 - top_5_accuracy: 1.0000\n",
      "Epoch 38/100\n",
      "25361/25361 [==============================] - 1480s 58ms/step - loss: 9.9762 - categorical_accuracy: 0.3811 - top_5_accuracy: 1.0000\n",
      "Epoch 39/100\n",
      "25361/25361 [==============================] - 1480s 58ms/step - loss: 9.9762 - categorical_accuracy: 0.3811 - top_5_accuracy: 0.9999\n",
      "Epoch 40/100\n",
      "25361/25361 [==============================] - 1465s 58ms/step - loss: 9.9762 - categorical_accuracy: 0.3811 - top_5_accuracy: 1.0000\n",
      "Epoch 41/100\n",
      "25361/25361 [==============================] - 1500s 59ms/step - loss: 9.9762 - categorical_accuracy: 0.3811 - top_5_accuracy: 0.9999\n",
      "Epoch 42/100\n",
      "25361/25361 [==============================] - 1494s 59ms/step - loss: 9.9762 - categorical_accuracy: 0.3811 - top_5_accuracy: 1.0000\n",
      "Epoch 43/100\n",
      "25361/25361 [==============================] - 1487s 59ms/step - loss: 9.9762 - categorical_accuracy: 0.3811 - top_5_accuracy: 1.0000\n",
      "Epoch 44/100\n",
      "25361/25361 [==============================] - 1505s 59ms/step - loss: 9.9762 - categorical_accuracy: 0.3811 - top_5_accuracy: 1.0000\n",
      "Epoch 45/100\n",
      "25361/25361 [==============================] - 1500s 59ms/step - loss: 9.9762 - categorical_accuracy: 0.3811 - top_5_accuracy: 1.0000\n",
      "Epoch 46/100\n",
      "25361/25361 [==============================] - 1482s 58ms/step - loss: 9.9762 - categorical_accuracy: 0.3811 - top_5_accuracy: 1.0000\n",
      "Epoch 47/100\n",
      "25361/25361 [==============================] - 1501s 59ms/step - loss: 9.9762 - categorical_accuracy: 0.3811 - top_5_accuracy: 1.0000\n",
      "Epoch 48/100\n",
      "25361/25361 [==============================] - 1491s 59ms/step - loss: 9.9762 - categorical_accuracy: 0.3811 - top_5_accuracy: 1.0000\n",
      "Epoch 49/100\n",
      "25361/25361 [==============================] - 1490s 59ms/step - loss: 9.9762 - categorical_accuracy: 0.3811 - top_5_accuracy: 1.0000\n",
      "Epoch 50/100\n",
      "25361/25361 [==============================] - 1500s 59ms/step - loss: 9.9762 - categorical_accuracy: 0.3811 - top_5_accuracy: 1.0000\n",
      "Epoch 51/100\n",
      "25361/25361 [==============================] - 1518s 60ms/step - loss: 9.9762 - categorical_accuracy: 0.3811 - top_5_accuracy: 1.0000\n",
      "Epoch 52/100\n",
      "25361/25361 [==============================] - 1495s 59ms/step - loss: 9.9762 - categorical_accuracy: 0.3811 - top_5_accuracy: 1.0000\n",
      "Epoch 53/100\n",
      "25361/25361 [==============================] - 1510s 60ms/step - loss: 9.9762 - categorical_accuracy: 0.3811 - top_5_accuracy: 1.0000\n",
      "Epoch 54/100\n",
      "25361/25361 [==============================] - 1488s 59ms/step - loss: 9.9762 - categorical_accuracy: 0.3811 - top_5_accuracy: 1.0000\n",
      "Epoch 55/100\n",
      "25361/25361 [==============================] - 1489s 59ms/step - loss: 9.9762 - categorical_accuracy: 0.3811 - top_5_accuracy: 1.0000\n",
      "Epoch 56/100\n"
     ]
    },
    {
     "name": "stdout",
     "output_type": "stream",
     "text": [
      "25361/25361 [==============================] - 1511s 60ms/step - loss: 9.9762 - categorical_accuracy: 0.3811 - top_5_accuracy: 1.0000\n",
      "Epoch 57/100\n",
      "25361/25361 [==============================] - 1484s 59ms/step - loss: 9.9762 - categorical_accuracy: 0.3811 - top_5_accuracy: 1.0000\n",
      "Epoch 58/100\n",
      "25361/25361 [==============================] - 1485s 59ms/step - loss: 9.9762 - categorical_accuracy: 0.3811 - top_5_accuracy: 1.0000\n",
      "Epoch 59/100\n",
      "25361/25361 [==============================] - 1498s 59ms/step - loss: 9.9762 - categorical_accuracy: 0.3811 - top_5_accuracy: 1.0000\n",
      "Epoch 60/100\n",
      "25361/25361 [==============================] - 1503s 59ms/step - loss: 9.9762 - categorical_accuracy: 0.3811 - top_5_accuracy: 1.0000\n",
      "Epoch 61/100\n",
      "25361/25361 [==============================] - 1488s 59ms/step - loss: 9.9762 - categorical_accuracy: 0.3811 - top_5_accuracy: 1.0000\n",
      "Epoch 62/100\n",
      "25361/25361 [==============================] - 1514s 60ms/step - loss: 9.9762 - categorical_accuracy: 0.3811 - top_5_accuracy: 1.0000\n",
      "Epoch 63/100\n",
      "25361/25361 [==============================] - 1481s 58ms/step - loss: 9.9762 - categorical_accuracy: 0.3811 - top_5_accuracy: 1.0000\n",
      "Epoch 64/100\n",
      "25361/25361 [==============================] - 1494s 59ms/step - loss: 9.9762 - categorical_accuracy: 0.3811 - top_5_accuracy: 1.0000\n",
      "Epoch 65/100\n",
      "25361/25361 [==============================] - 1485s 59ms/step - loss: 9.9762 - categorical_accuracy: 0.3811 - top_5_accuracy: 1.0000\n",
      "Epoch 66/100\n",
      "25361/25361 [==============================] - 1494s 59ms/step - loss: 9.9762 - categorical_accuracy: 0.3811 - top_5_accuracy: 1.0000\n",
      "Epoch 67/100\n",
      "25361/25361 [==============================] - 1501s 59ms/step - loss: 9.9762 - categorical_accuracy: 0.3811 - top_5_accuracy: 1.0000\n",
      "Epoch 68/100\n",
      "25361/25361 [==============================] - 1502s 59ms/step - loss: 9.9762 - categorical_accuracy: 0.3811 - top_5_accuracy: 1.0000\n",
      "Epoch 69/100\n",
      "25361/25361 [==============================] - 1499s 59ms/step - loss: 9.9762 - categorical_accuracy: 0.3811 - top_5_accuracy: 1.0000\n",
      "Epoch 70/100\n",
      "25361/25361 [==============================] - 1490s 59ms/step - loss: 9.9762 - categorical_accuracy: 0.3811 - top_5_accuracy: 1.0000\n",
      "Epoch 71/100\n",
      "25361/25361 [==============================] - 1511s 60ms/step - loss: 9.9762 - categorical_accuracy: 0.3811 - top_5_accuracy: 1.0000\n",
      "Epoch 72/100\n",
      "25361/25361 [==============================] - 1524s 60ms/step - loss: 9.9762 - categorical_accuracy: 0.3811 - top_5_accuracy: 1.0000\n",
      "Epoch 73/100\n",
      "25361/25361 [==============================] - 1505s 59ms/step - loss: 9.9762 - categorical_accuracy: 0.3811 - top_5_accuracy: 1.0000\n",
      "Epoch 74/100\n",
      "25361/25361 [==============================] - 1507s 59ms/step - loss: 9.9762 - categorical_accuracy: 0.3811 - top_5_accuracy: 1.0000\n",
      "Epoch 75/100\n",
      "25361/25361 [==============================] - 1464s 58ms/step - loss: 9.9762 - categorical_accuracy: 0.3811 - top_5_accuracy: 1.0000\n",
      "Epoch 76/100\n",
      "25361/25361 [==============================] - 1467s 58ms/step - loss: 9.9762 - categorical_accuracy: 0.3811 - top_5_accuracy: 1.0000\n",
      "Epoch 77/100\n",
      "25361/25361 [==============================] - 1484s 59ms/step - loss: 9.9762 - categorical_accuracy: 0.3811 - top_5_accuracy: 1.0000\n",
      "Epoch 78/100\n",
      "25361/25361 [==============================] - 1480s 58ms/step - loss: 9.9762 - categorical_accuracy: 0.3811 - top_5_accuracy: 1.0000\n",
      "Epoch 79/100\n",
      "25361/25361 [==============================] - 1499s 59ms/step - loss: 9.9762 - categorical_accuracy: 0.3811 - top_5_accuracy: 1.0000\n",
      "Epoch 80/100\n",
      "25361/25361 [==============================] - 1495s 59ms/step - loss: 9.9762 - categorical_accuracy: 0.3811 - top_5_accuracy: 1.0000\n",
      "Epoch 81/100\n",
      "25361/25361 [==============================] - 1488s 59ms/step - loss: 9.9762 - categorical_accuracy: 0.3811 - top_5_accuracy: 1.0000\n",
      "Epoch 82/100\n",
      "25361/25361 [==============================] - 1497s 59ms/step - loss: 9.9762 - categorical_accuracy: 0.3811 - top_5_accuracy: 1.0000\n",
      "Epoch 83/100\n",
      "25361/25361 [==============================] - 1497s 59ms/step - loss: 9.9762 - categorical_accuracy: 0.3811 - top_5_accuracy: 1.0000\n",
      "Epoch 84/100\n",
      "25361/25361 [==============================] - 1492s 59ms/step - loss: 9.9762 - categorical_accuracy: 0.3811 - top_5_accuracy: 1.0000\n",
      "Epoch 85/100\n",
      "25361/25361 [==============================] - 1491s 59ms/step - loss: 9.9762 - categorical_accuracy: 0.3811 - top_5_accuracy: 1.0000\n",
      "Epoch 86/100\n",
      "25361/25361 [==============================] - 1491s 59ms/step - loss: 9.9762 - categorical_accuracy: 0.3811 - top_5_accuracy: 1.0000\n",
      "Epoch 87/100\n",
      "25361/25361 [==============================] - 1479s 58ms/step - loss: 9.9762 - categorical_accuracy: 0.3811 - top_5_accuracy: 1.0000\n",
      "Epoch 88/100\n",
      "25361/25361 [==============================] - 1489s 59ms/step - loss: 9.9762 - categorical_accuracy: 0.3811 - top_5_accuracy: 1.0000\n",
      "Epoch 89/100\n",
      "25361/25361 [==============================] - 1487s 59ms/step - loss: 9.9762 - categorical_accuracy: 0.3811 - top_5_accuracy: 1.0000\n",
      "Epoch 90/100\n",
      "25361/25361 [==============================] - 1470s 58ms/step - loss: 9.9762 - categorical_accuracy: 0.3811 - top_5_accuracy: 1.0000\n",
      "Epoch 91/100\n",
      "25361/25361 [==============================] - 1497s 59ms/step - loss: 9.9762 - categorical_accuracy: 0.3811 - top_5_accuracy: 1.0000\n",
      "Epoch 92/100\n",
      "25361/25361 [==============================] - 1513s 60ms/step - loss: 9.9762 - categorical_accuracy: 0.3811 - top_5_accuracy: 1.0000\n",
      "Epoch 93/100\n",
      "25361/25361 [==============================] - 1476s 58ms/step - loss: 9.9762 - categorical_accuracy: 0.3811 - top_5_accuracy: 1.0000\n",
      "Epoch 94/100\n",
      "25361/25361 [==============================] - 1489s 59ms/step - loss: 9.9762 - categorical_accuracy: 0.3811 - top_5_accuracy: 1.0000\n",
      "Epoch 95/100\n",
      "25361/25361 [==============================] - 1474s 58ms/step - loss: 9.9762 - categorical_accuracy: 0.3811 - top_5_accuracy: 1.0000\n",
      "Epoch 96/100\n",
      "25361/25361 [==============================] - 1482s 58ms/step - loss: 9.9762 - categorical_accuracy: 0.3811 - top_5_accuracy: 1.0000\n",
      "Epoch 97/100\n",
      "25361/25361 [==============================] - 1503s 59ms/step - loss: 9.9762 - categorical_accuracy: 0.3811 - top_5_accuracy: 1.0000\n",
      "Epoch 98/100\n",
      "25361/25361 [==============================] - 1501s 59ms/step - loss: 9.9762 - categorical_accuracy: 0.3811 - top_5_accuracy: 1.0000\n",
      "Epoch 99/100\n",
      "25361/25361 [==============================] - 1482s 58ms/step - loss: 9.9762 - categorical_accuracy: 0.3811 - top_5_accuracy: 1.0000\n",
      "Epoch 100/100\n",
      "25361/25361 [==============================] - 1505s 59ms/step - loss: 9.9762 - categorical_accuracy: 0.3811 - top_5_accuracy: 1.0000\n"
     ]
    },
    {
     "data": {
      "text/plain": [
       "0"
      ]
     },
     "execution_count": 13,
     "metadata": {},
     "output_type": "execute_result"
    }
   ],
   "source": [
    "import gc\n",
    "history = model.fit(X, y, epochs=100, batch_size=128, verbose=1)\n",
    "gc.collect()"
   ]
  },
  {
   "cell_type": "code",
   "execution_count": 14,
   "metadata": {
    "collapsed": true
   },
   "outputs": [],
   "source": [
    "model.save('./working/aug_model.hdf5')"
   ]
  },
  {
   "cell_type": "code",
   "execution_count": 15,
   "metadata": {},
   "outputs": [
    {
     "data": {
      "image/png": "[encoded data removed]",
      "text/plain": [
       "<matplotlib.figure.Figure at 0x21be989cf60>"
      ]
     },
     "metadata": {},
     "output_type": "display_data"
    }
   ],
   "source": [
    "plt.plot(history.history['categorical_accuracy'])\n",
    "plt.title('Model categorical accuracy')\n",
    "plt.ylabel('categorical accuracy')\n",
    "plt.xlabel('Epoch')\n",
    "plt.show()"
   ]
  },
  {
   "cell_type": "code",
   "execution_count": 16,
   "metadata": {},
   "outputs": [
    {
     "data": {
      "image/png": "[encoded data removed]",
      "text/plain": [
       "<matplotlib.figure.Figure at 0x21bbeaea2e8>"
      ]
     },
     "metadata": {},
     "output_type": "display_data"
    }
   ],
   "source": [
    "plt.plot(history.history['loss'])\n",
    "plt.title('Model loss')\n",
    "plt.ylabel('loss')\n",
    "plt.xlabel('Epoch')\n",
    "plt.show()"
   ]
  },
  {
   "cell_type": "code",
   "execution_count": 18,
   "metadata": {},
   "outputs": [
    {
     "name": "stdout",
     "output_type": "stream",
     "text": [
      "7960\n"
     ]
    }
   ],
   "source": [
    "test = os.listdir(\"./input/test/\")\n",
    "print(len(test))"
   ]
  },
  {
   "cell_type": "code",
   "execution_count": 19,
   "metadata": {
    "collapsed": true
   },
   "outputs": [],
   "source": [
    "col = ['Image']\n",
    "test_df = pd.DataFrame(test, columns=col)\n",
    "test_df['Id'] = ''"
   ]
  },
  {
   "cell_type": "code",
   "execution_count": 20,
   "metadata": {},
   "outputs": [
    {
     "name": "stdout",
     "output_type": "stream",
     "text": [
      "Preparing images\n",
      "Processing image:  1 ,  00028a005.jpg\n",
      "Processing image:  501 ,  0f9219c40.jpg\n",
      "Processing image:  1001 ,  1ea95c247.jpg\n",
      "Processing image:  1501 ,  2fe4ec2d5.jpg\n",
      "Processing image:  2001 ,  404206f77.jpg\n",
      "Processing image:  2501 ,  4fc69fd82.jpg\n",
      "Processing image:  3001 ,  5ffc2d300.jpg\n",
      "Processing image:  3501 ,  7042be267.jpg\n",
      "Processing image:  4001 ,  801c6a722.jpg\n",
      "Processing image:  4501 ,  906aa36c8.jpg\n",
      "Processing image:  5001 ,  a0d337cdc.jpg\n",
      "Processing image:  5501 ,  b1a4e4c18.jpg\n",
      "Processing image:  6001 ,  c0b378682.jpg\n",
      "Processing image:  6501 ,  cfe9d9d04.jpg\n",
      "Processing image:  7001 ,  e00620fc3.jpg\n",
      "Processing image:  7501 ,  f1b504951.jpg\n"
     ]
    }
   ],
   "source": [
    "X = prepareImages(test_df, test_df.shape[0], \"test\")\n",
    "X /= 255"
   ]
  },
  {
   "cell_type": "code",
   "execution_count": 21,
   "metadata": {},
   "outputs": [
    {
     "name": "stdout",
     "output_type": "stream",
     "text": [
      "7960/7960 [==============================] - 136s 17ms/step\n"
     ]
    }
   ],
   "source": [
    "predictions = model.predict(np.array(X), verbose=1)"
   ]
  },
  {
   "cell_type": "code",
   "execution_count": 22,
   "metadata": {
    "collapsed": true
   },
   "outputs": [],
   "source": [
    "for i, pred in enumerate(predictions):\n",
    "    test_df.loc[i, 'Id'] = ' '.join(label_encoder.inverse_transform(pred.argsort()[-5:][::-1]))"
   ]
  },
  {
   "cell_type": "code",
   "execution_count": 23,
   "metadata": {
    "collapsed": true
   },
   "outputs": [],
   "source": [
    "test_df.head(10)\n",
    "test_df.to_csv('submission_24.csv', index=False)"
   ]
  },
  {
   "cell_type": "code",
   "execution_count": null,
   "metadata": {
    "collapsed": true
   },
   "outputs": [],
   "source": []
  }
 ],
 "metadata": {
  "anaconda-cloud": {},
  "kernelspec": {
   "display_name": "Python [conda env:carnd-term1]",
   "language": "python",
   "name": "conda-env-carnd-term1-py"
  },
  "language_info": {
   "codemirror_mode": {
    "name": "ipython",
    "version": 3
   },
   "file_extension": ".py",
   "mimetype": "text/x-python",
   "name": "python",
   "nbconvert_exporter": "python",
   "pygments_lexer": "ipython3",
   "version": "3.5.2"
  }
 },
 "nbformat": 4,
 "nbformat_minor": 2
}
