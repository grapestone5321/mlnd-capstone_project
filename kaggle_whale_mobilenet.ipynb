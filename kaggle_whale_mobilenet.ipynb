{
 "cells": [
  {
   "cell_type": "markdown",
   "metadata": {},
   "source": [
    "## Kaggle Whale"
   ]
  },
  {
   "cell_type": "markdown",
   "metadata": {},
   "source": [
    "Humpback Whale Identification - CNN with Keras¶\n",
    "This kernel is based on Anezka Kolaceke's awesome work: CNN with Keras for Humpback Whale ID\n",
    "\n",
    "Keras CNN starter"
   ]
  },
  {
   "cell_type": "code",
   "execution_count": 1,
   "metadata": {},
   "outputs": [
    {
     "name": "stderr",
     "output_type": "stream",
     "text": [
      "Using TensorFlow backend.\n"
     ]
    }
   ],
   "source": [
    "import numpy as np \n",
    "import pandas as pd \n",
    "import os\n",
    "import matplotlib.pyplot as plt\n",
    "import matplotlib.image as mplimg\n",
    "from matplotlib.pyplot import imshow\n",
    "\n",
    "from sklearn.preprocessing import LabelEncoder\n",
    "from sklearn.preprocessing import OneHotEncoder\n",
    "\n",
    "from keras import layers\n",
    "from keras.preprocessing import image\n",
    "from keras.applications.imagenet_utils import preprocess_input\n",
    "from keras.layers import Input, Dense, Activation, BatchNormalization, Flatten, Conv2D\n",
    "from keras.layers import AveragePooling2D, MaxPooling2D, Dropout\n",
    "from keras.models import Model\n",
    "\n",
    "import keras.backend as K\n",
    "from keras.models import Sequential\n",
    "\n",
    "import warnings\n",
    "warnings.simplefilter(\"ignore\", category=DeprecationWarning)"
   ]
  },
  {
   "cell_type": "code",
   "execution_count": 2,
   "metadata": {},
   "outputs": [
    {
     "name": "stdout",
     "output_type": "stream",
     "text": [
      "1.12.0\n"
     ]
    }
   ],
   "source": [
    "import tensorflow as tf\n",
    "print(tf.__version__)"
   ]
  },
  {
   "cell_type": "code",
   "execution_count": 3,
   "metadata": {},
   "outputs": [
    {
     "data": {
      "text/plain": [
       "['sample_submission.csv', 'test', 'train', 'train.csv']"
      ]
     },
     "execution_count": 3,
     "metadata": {},
     "output_type": "execute_result"
    }
   ],
   "source": [
    "os.listdir(\"./input/\")"
   ]
  },
  {
   "cell_type": "code",
   "execution_count": 4,
   "metadata": {},
   "outputs": [
    {
     "data": {
      "text/html": [
       "<div>\n",
       "<style scoped>\n",
       "    .dataframe tbody tr th:only-of-type {\n",
       "        vertical-align: middle;\n",
       "    }\n",
       "\n",
       "    .dataframe tbody tr th {\n",
       "        vertical-align: top;\n",
       "    }\n",
       "\n",
       "    .dataframe thead th {\n",
       "        text-align: right;\n",
       "    }\n",
       "</style>\n",
       "<table border=\"1\" class=\"dataframe\">\n",
       "  <thead>\n",
       "    <tr style=\"text-align: right;\">\n",
       "      <th></th>\n",
       "      <th>Image</th>\n",
       "      <th>Id</th>\n",
       "    </tr>\n",
       "  </thead>\n",
       "  <tbody>\n",
       "    <tr>\n",
       "      <th>0</th>\n",
       "      <td>0000e88ab.jpg</td>\n",
       "      <td>w_f48451c</td>\n",
       "    </tr>\n",
       "    <tr>\n",
       "      <th>1</th>\n",
       "      <td>0001f9222.jpg</td>\n",
       "      <td>w_c3d896a</td>\n",
       "    </tr>\n",
       "    <tr>\n",
       "      <th>2</th>\n",
       "      <td>00029d126.jpg</td>\n",
       "      <td>w_20df2c5</td>\n",
       "    </tr>\n",
       "    <tr>\n",
       "      <th>3</th>\n",
       "      <td>00050a15a.jpg</td>\n",
       "      <td>new_whale</td>\n",
       "    </tr>\n",
       "    <tr>\n",
       "      <th>4</th>\n",
       "      <td>0005c1ef8.jpg</td>\n",
       "      <td>new_whale</td>\n",
       "    </tr>\n",
       "  </tbody>\n",
       "</table>\n",
       "</div>"
      ],
      "text/plain": [
       "           Image         Id\n",
       "0  0000e88ab.jpg  w_f48451c\n",
       "1  0001f9222.jpg  w_c3d896a\n",
       "2  00029d126.jpg  w_20df2c5\n",
       "3  00050a15a.jpg  new_whale\n",
       "4  0005c1ef8.jpg  new_whale"
      ]
     },
     "execution_count": 4,
     "metadata": {},
     "output_type": "execute_result"
    }
   ],
   "source": [
    "train_df = pd.read_csv(\"./input/train.csv\")\n",
    "train_df.head()"
   ]
  },
  {
   "cell_type": "code",
   "execution_count": 5,
   "metadata": {},
   "outputs": [],
   "source": [
    "def prepareImages(data, m, dataset):\n",
    "    print(\"Preparing images\")\n",
    "    X_train = np.zeros((m, 100, 100, 3))\n",
    "    count = 0\n",
    "    \n",
    "    for fig in data['Image']:\n",
    "        #load images into images of size 100x100x3\n",
    "        img = image.load_img(\"./input/\"+dataset+\"/\"+fig, target_size=(100, 100, 3))\n",
    "        x = image.img_to_array(img)\n",
    "        x = preprocess_input(x)\n",
    "\n",
    "        X_train[count] = x\n",
    "        if (count%500 == 0):\n",
    "            print(\"Processing image: \", count+1, \", \", fig)\n",
    "        count += 1\n",
    "    \n",
    "    return X_train"
   ]
  },
  {
   "cell_type": "code",
   "execution_count": 6,
   "metadata": {},
   "outputs": [],
   "source": [
    "def prepare_labels(y):\n",
    "    values = np.array(y)\n",
    "    label_encoder = LabelEncoder()\n",
    "    integer_encoded = label_encoder.fit_transform(values)\n",
    "    # print(integer_encoded)\n",
    "\n",
    "    onehot_encoder = OneHotEncoder(sparse=False)\n",
    "    integer_encoded = integer_encoded.reshape(len(integer_encoded), 1)\n",
    "    onehot_encoded = onehot_encoder.fit_transform(integer_encoded)\n",
    "    # print(onehot_encoded)\n",
    "\n",
    "    y = onehot_encoded\n",
    "    # print(y.shape)\n",
    "    return y, label_encoder"
   ]
  },
  {
   "cell_type": "code",
   "execution_count": 7,
   "metadata": {},
   "outputs": [
    {
     "name": "stdout",
     "output_type": "stream",
     "text": [
      "Preparing images\n",
      "Processing image:  1 ,  0000e88ab.jpg\n",
      "Processing image:  501 ,  04c72257b.jpg\n",
      "Processing image:  1001 ,  09cacb84d.jpg\n",
      "Processing image:  1501 ,  0ef961892.jpg\n",
      "Processing image:  2001 ,  141b56a1a.jpg\n",
      "Processing image:  2501 ,  199a417aa.jpg\n",
      "Processing image:  3001 ,  1ec170983.jpg\n",
      "Processing image:  3501 ,  23f084b93.jpg\n",
      "Processing image:  4001 ,  29163ad0b.jpg\n",
      "Processing image:  4501 ,  2e0fab120.jpg\n",
      "Processing image:  5001 ,  3347515d9.jpg\n",
      "Processing image:  5501 ,  3842d71dc.jpg\n",
      "Processing image:  6001 ,  3d7f4c7d5.jpg\n",
      "Processing image:  6501 ,  425f763ca.jpg\n",
      "Processing image:  7001 ,  4714400cd.jpg\n",
      "Processing image:  7501 ,  4c082fbdf.jpg\n",
      "Processing image:  8001 ,  50c683e23.jpg\n",
      "Processing image:  8501 ,  560d986ad.jpg\n",
      "Processing image:  9001 ,  5b68c83ed.jpg\n",
      "Processing image:  9501 ,  60410f111.jpg\n",
      "Processing image:  10001 ,  654951f81.jpg\n",
      "Processing image:  10501 ,  6a572256c.jpg\n",
      "Processing image:  11001 ,  6f96f55b6.jpg\n",
      "Processing image:  11501 ,  74da2b511.jpg\n",
      "Processing image:  12001 ,  7989d9a27.jpg\n",
      "Processing image:  12501 ,  7e5aa2d8a.jpg\n",
      "Processing image:  13001 ,  832382cfb.jpg\n",
      "Processing image:  13501 ,  87f6c0a15.jpg\n",
      "Processing image:  14001 ,  8cfc22e5d.jpg\n",
      "Processing image:  14501 ,  91dcfedcd.jpg\n",
      "Processing image:  15001 ,  97079398e.jpg\n",
      "Processing image:  15501 ,  9c2ad64a9.jpg\n",
      "Processing image:  16001 ,  a11956dff.jpg\n",
      "Processing image:  16501 ,  a5f9ffe86.jpg\n",
      "Processing image:  17001 ,  aaf1a967b.jpg\n",
      "Processing image:  17501 ,  af9a1ffc6.jpg\n",
      "Processing image:  18001 ,  b4e02531d.jpg\n",
      "Processing image:  18501 ,  ba2355ca6.jpg\n",
      "Processing image:  19001 ,  bf60e7fed.jpg\n",
      "Processing image:  19501 ,  c49f39ce3.jpg\n",
      "Processing image:  20001 ,  c960111d0.jpg\n",
      "Processing image:  20501 ,  ce7984d8a.jpg\n",
      "Processing image:  21001 ,  d38efaec9.jpg\n",
      "Processing image:  21501 ,  d831d28ee.jpg\n",
      "Processing image:  22001 ,  dd3ca2387.jpg\n",
      "Processing image:  22501 ,  e288d66cf.jpg\n",
      "Processing image:  23001 ,  e7cc793db.jpg\n",
      "Processing image:  23501 ,  ec8c7229d.jpg\n",
      "Processing image:  24001 ,  f1b850552.jpg\n",
      "Processing image:  24501 ,  f6af8a4b8.jpg\n",
      "Processing image:  25001 ,  fc09f2302.jpg\n"
     ]
    }
   ],
   "source": [
    "X = prepareImages(train_df, train_df.shape[0], \"train\")\n",
    "X /= 255"
   ]
  },
  {
   "cell_type": "code",
   "execution_count": 8,
   "metadata": {},
   "outputs": [],
   "source": [
    "y, label_encoder = prepare_labels(train_df['Id'])"
   ]
  },
  {
   "cell_type": "code",
   "execution_count": 9,
   "metadata": {},
   "outputs": [
    {
     "data": {
      "text/plain": [
       "(25361, 5005)"
      ]
     },
     "execution_count": 9,
     "metadata": {},
     "output_type": "execute_result"
    }
   ],
   "source": [
    "y.shape"
   ]
  },
  {
   "cell_type": "code",
   "execution_count": 10,
   "metadata": {},
   "outputs": [],
   "source": [
    "#from keras.optimizers import adam\n",
    "#from keras.applications import MobileNet\n",
    "\n",
    "#model = MobileNet(input_shape=(100, 100, 3), alpha=1., weights=None, classes=5005)\n",
    "\n",
    "#model.compile(optimizer=adam(lr=0.0005),loss='categorical_crossentropy', metrics=['accuracy'])\n"
   ]
  },
  {
   "cell_type": "code",
   "execution_count": 11,
   "metadata": {},
   "outputs": [],
   "source": [
    "def top_5_accuracy(y_true, y_pred):\n",
    "    return top_k_categorical_accuracy(y_true, y_pred, k=5)"
   ]
  },
  {
   "cell_type": "code",
   "execution_count": 12,
   "metadata": {},
   "outputs": [],
   "source": [
    "from keras.optimizers import adam\n",
    "from keras.applications import MobileNet\n",
    "from keras.metrics import categorical_accuracy, top_k_categorical_accuracy, categorical_crossentropy\n",
    "\n",
    "model = MobileNet(input_shape=(100, 100, 3), alpha=1., weights=None, classes=5005)\n",
    "\n",
    "model.compile(optimizer=adam(lr=0.001), loss='categorical_crossentropy',\n",
    "              metrics=[categorical_crossentropy, categorical_accuracy, top_5_accuracy])"
   ]
  },
  {
   "cell_type": "code",
   "execution_count": 13,
   "metadata": {},
   "outputs": [],
   "source": [
    "#from keras.optimizers import adam\n",
    "\n",
    "#model = Sequential()\n",
    "\n",
    "#model.add(Conv2D(32, (7, 7), strides = (1, 1), name = 'conv0', input_shape = (100, 100, 3)))\n",
    "\n",
    "#model.add(BatchNormalization(axis = 3, name = 'bn0'))\n",
    "#model.add(Activation('relu'))\n",
    "\n",
    "#model.add(MaxPooling2D((2, 2), name='max_pool'))\n",
    "#model.add(Conv2D(64, (3, 3), strides = (1,1), name=\"conv1\"))\n",
    "#model.add(Activation('relu'))\n",
    "#model.add(AveragePooling2D((3, 3), name='avg_pool'))\n",
    "\n",
    "#model.add(Flatten())\n",
    "#model.add(Dense(500, activation=\"relu\", name='rl'))\n",
    "#model.add(Dropout(0.8))\n",
    "\n",
    "#model.add(Dense(y.shape[1], activation='softmax', name='sm'))\n",
    "\n",
    "#model.compile(optimizer=adam(lr=0.001),loss='categorical_crossentropy', metrics=['accuracy'])\n",
    "\n"
   ]
  },
  {
   "cell_type": "code",
   "execution_count": 14,
   "metadata": {},
   "outputs": [
    {
     "name": "stdout",
     "output_type": "stream",
     "text": [
      "_________________________________________________________________\n",
      "Layer (type)                 Output Shape              Param #   \n",
      "=================================================================\n",
      "input_1 (InputLayer)         (None, 100, 100, 3)       0         \n",
      "_________________________________________________________________\n",
      "conv1_pad (ZeroPadding2D)    (None, 101, 101, 3)       0         \n",
      "_________________________________________________________________\n",
      "conv1 (Conv2D)               (None, 50, 50, 32)        864       \n",
      "_________________________________________________________________\n",
      "conv1_bn (BatchNormalization (None, 50, 50, 32)        128       \n",
      "_________________________________________________________________\n",
      "conv1_relu (ReLU)            (None, 50, 50, 32)        0         \n",
      "_________________________________________________________________\n",
      "conv_dw_1 (DepthwiseConv2D)  (None, 50, 50, 32)        288       \n",
      "_________________________________________________________________\n",
      "conv_dw_1_bn (BatchNormaliza (None, 50, 50, 32)        128       \n",
      "_________________________________________________________________\n",
      "conv_dw_1_relu (ReLU)        (None, 50, 50, 32)        0         \n",
      "_________________________________________________________________\n",
      "conv_pw_1 (Conv2D)           (None, 50, 50, 64)        2048      \n",
      "_________________________________________________________________\n",
      "conv_pw_1_bn (BatchNormaliza (None, 50, 50, 64)        256       \n",
      "_________________________________________________________________\n",
      "conv_pw_1_relu (ReLU)        (None, 50, 50, 64)        0         \n",
      "_________________________________________________________________\n",
      "conv_pad_2 (ZeroPadding2D)   (None, 51, 51, 64)        0         \n",
      "_________________________________________________________________\n",
      "conv_dw_2 (DepthwiseConv2D)  (None, 25, 25, 64)        576       \n",
      "_________________________________________________________________\n",
      "conv_dw_2_bn (BatchNormaliza (None, 25, 25, 64)        256       \n",
      "_________________________________________________________________\n",
      "conv_dw_2_relu (ReLU)        (None, 25, 25, 64)        0         \n",
      "_________________________________________________________________\n",
      "conv_pw_2 (Conv2D)           (None, 25, 25, 128)       8192      \n",
      "_________________________________________________________________\n",
      "conv_pw_2_bn (BatchNormaliza (None, 25, 25, 128)       512       \n",
      "_________________________________________________________________\n",
      "conv_pw_2_relu (ReLU)        (None, 25, 25, 128)       0         \n",
      "_________________________________________________________________\n",
      "conv_dw_3 (DepthwiseConv2D)  (None, 25, 25, 128)       1152      \n",
      "_________________________________________________________________\n",
      "conv_dw_3_bn (BatchNormaliza (None, 25, 25, 128)       512       \n",
      "_________________________________________________________________\n",
      "conv_dw_3_relu (ReLU)        (None, 25, 25, 128)       0         \n",
      "_________________________________________________________________\n",
      "conv_pw_3 (Conv2D)           (None, 25, 25, 128)       16384     \n",
      "_________________________________________________________________\n",
      "conv_pw_3_bn (BatchNormaliza (None, 25, 25, 128)       512       \n",
      "_________________________________________________________________\n",
      "conv_pw_3_relu (ReLU)        (None, 25, 25, 128)       0         \n",
      "_________________________________________________________________\n",
      "conv_pad_4 (ZeroPadding2D)   (None, 26, 26, 128)       0         \n",
      "_________________________________________________________________\n",
      "conv_dw_4 (DepthwiseConv2D)  (None, 12, 12, 128)       1152      \n",
      "_________________________________________________________________\n",
      "conv_dw_4_bn (BatchNormaliza (None, 12, 12, 128)       512       \n",
      "_________________________________________________________________\n",
      "conv_dw_4_relu (ReLU)        (None, 12, 12, 128)       0         \n",
      "_________________________________________________________________\n",
      "conv_pw_4 (Conv2D)           (None, 12, 12, 256)       32768     \n",
      "_________________________________________________________________\n",
      "conv_pw_4_bn (BatchNormaliza (None, 12, 12, 256)       1024      \n",
      "_________________________________________________________________\n",
      "conv_pw_4_relu (ReLU)        (None, 12, 12, 256)       0         \n",
      "_________________________________________________________________\n",
      "conv_dw_5 (DepthwiseConv2D)  (None, 12, 12, 256)       2304      \n",
      "_________________________________________________________________\n",
      "conv_dw_5_bn (BatchNormaliza (None, 12, 12, 256)       1024      \n",
      "_________________________________________________________________\n",
      "conv_dw_5_relu (ReLU)        (None, 12, 12, 256)       0         \n",
      "_________________________________________________________________\n",
      "conv_pw_5 (Conv2D)           (None, 12, 12, 256)       65536     \n",
      "_________________________________________________________________\n",
      "conv_pw_5_bn (BatchNormaliza (None, 12, 12, 256)       1024      \n",
      "_________________________________________________________________\n",
      "conv_pw_5_relu (ReLU)        (None, 12, 12, 256)       0         \n",
      "_________________________________________________________________\n",
      "conv_pad_6 (ZeroPadding2D)   (None, 13, 13, 256)       0         \n",
      "_________________________________________________________________\n",
      "conv_dw_6 (DepthwiseConv2D)  (None, 6, 6, 256)         2304      \n",
      "_________________________________________________________________\n",
      "conv_dw_6_bn (BatchNormaliza (None, 6, 6, 256)         1024      \n",
      "_________________________________________________________________\n",
      "conv_dw_6_relu (ReLU)        (None, 6, 6, 256)         0         \n",
      "_________________________________________________________________\n",
      "conv_pw_6 (Conv2D)           (None, 6, 6, 512)         131072    \n",
      "_________________________________________________________________\n",
      "conv_pw_6_bn (BatchNormaliza (None, 6, 6, 512)         2048      \n",
      "_________________________________________________________________\n",
      "conv_pw_6_relu (ReLU)        (None, 6, 6, 512)         0         \n",
      "_________________________________________________________________\n",
      "conv_dw_7 (DepthwiseConv2D)  (None, 6, 6, 512)         4608      \n",
      "_________________________________________________________________\n",
      "conv_dw_7_bn (BatchNormaliza (None, 6, 6, 512)         2048      \n",
      "_________________________________________________________________\n",
      "conv_dw_7_relu (ReLU)        (None, 6, 6, 512)         0         \n",
      "_________________________________________________________________\n",
      "conv_pw_7 (Conv2D)           (None, 6, 6, 512)         262144    \n",
      "_________________________________________________________________\n",
      "conv_pw_7_bn (BatchNormaliza (None, 6, 6, 512)         2048      \n",
      "_________________________________________________________________\n",
      "conv_pw_7_relu (ReLU)        (None, 6, 6, 512)         0         \n",
      "_________________________________________________________________\n",
      "conv_dw_8 (DepthwiseConv2D)  (None, 6, 6, 512)         4608      \n",
      "_________________________________________________________________\n",
      "conv_dw_8_bn (BatchNormaliza (None, 6, 6, 512)         2048      \n",
      "_________________________________________________________________\n",
      "conv_dw_8_relu (ReLU)        (None, 6, 6, 512)         0         \n",
      "_________________________________________________________________\n",
      "conv_pw_8 (Conv2D)           (None, 6, 6, 512)         262144    \n",
      "_________________________________________________________________\n",
      "conv_pw_8_bn (BatchNormaliza (None, 6, 6, 512)         2048      \n",
      "_________________________________________________________________\n",
      "conv_pw_8_relu (ReLU)        (None, 6, 6, 512)         0         \n",
      "_________________________________________________________________\n",
      "conv_dw_9 (DepthwiseConv2D)  (None, 6, 6, 512)         4608      \n",
      "_________________________________________________________________\n",
      "conv_dw_9_bn (BatchNormaliza (None, 6, 6, 512)         2048      \n",
      "_________________________________________________________________\n",
      "conv_dw_9_relu (ReLU)        (None, 6, 6, 512)         0         \n",
      "_________________________________________________________________\n",
      "conv_pw_9 (Conv2D)           (None, 6, 6, 512)         262144    \n",
      "_________________________________________________________________\n",
      "conv_pw_9_bn (BatchNormaliza (None, 6, 6, 512)         2048      \n",
      "_________________________________________________________________\n",
      "conv_pw_9_relu (ReLU)        (None, 6, 6, 512)         0         \n",
      "_________________________________________________________________\n",
      "conv_dw_10 (DepthwiseConv2D) (None, 6, 6, 512)         4608      \n",
      "_________________________________________________________________\n",
      "conv_dw_10_bn (BatchNormaliz (None, 6, 6, 512)         2048      \n",
      "_________________________________________________________________\n",
      "conv_dw_10_relu (ReLU)       (None, 6, 6, 512)         0         \n",
      "_________________________________________________________________\n",
      "conv_pw_10 (Conv2D)          (None, 6, 6, 512)         262144    \n",
      "_________________________________________________________________\n",
      "conv_pw_10_bn (BatchNormaliz (None, 6, 6, 512)         2048      \n",
      "_________________________________________________________________\n",
      "conv_pw_10_relu (ReLU)       (None, 6, 6, 512)         0         \n",
      "_________________________________________________________________\n",
      "conv_dw_11 (DepthwiseConv2D) (None, 6, 6, 512)         4608      \n",
      "_________________________________________________________________\n",
      "conv_dw_11_bn (BatchNormaliz (None, 6, 6, 512)         2048      \n",
      "_________________________________________________________________\n",
      "conv_dw_11_relu (ReLU)       (None, 6, 6, 512)         0         \n",
      "_________________________________________________________________\n",
      "conv_pw_11 (Conv2D)          (None, 6, 6, 512)         262144    \n",
      "_________________________________________________________________\n",
      "conv_pw_11_bn (BatchNormaliz (None, 6, 6, 512)         2048      \n",
      "_________________________________________________________________\n",
      "conv_pw_11_relu (ReLU)       (None, 6, 6, 512)         0         \n",
      "_________________________________________________________________\n",
      "conv_pad_12 (ZeroPadding2D)  (None, 7, 7, 512)         0         \n",
      "_________________________________________________________________\n",
      "conv_dw_12 (DepthwiseConv2D) (None, 3, 3, 512)         4608      \n",
      "_________________________________________________________________\n",
      "conv_dw_12_bn (BatchNormaliz (None, 3, 3, 512)         2048      \n",
      "_________________________________________________________________\n",
      "conv_dw_12_relu (ReLU)       (None, 3, 3, 512)         0         \n",
      "_________________________________________________________________\n",
      "conv_pw_12 (Conv2D)          (None, 3, 3, 1024)        524288    \n",
      "_________________________________________________________________\n",
      "conv_pw_12_bn (BatchNormaliz (None, 3, 3, 1024)        4096      \n",
      "_________________________________________________________________\n",
      "conv_pw_12_relu (ReLU)       (None, 3, 3, 1024)        0         \n",
      "_________________________________________________________________\n",
      "conv_dw_13 (DepthwiseConv2D) (None, 3, 3, 1024)        9216      \n",
      "_________________________________________________________________\n",
      "conv_dw_13_bn (BatchNormaliz (None, 3, 3, 1024)        4096      \n",
      "_________________________________________________________________\n",
      "conv_dw_13_relu (ReLU)       (None, 3, 3, 1024)        0         \n",
      "_________________________________________________________________\n",
      "conv_pw_13 (Conv2D)          (None, 3, 3, 1024)        1048576   \n",
      "_________________________________________________________________\n",
      "conv_pw_13_bn (BatchNormaliz (None, 3, 3, 1024)        4096      \n",
      "_________________________________________________________________\n",
      "conv_pw_13_relu (ReLU)       (None, 3, 3, 1024)        0         \n",
      "_________________________________________________________________\n",
      "global_average_pooling2d_1 ( (None, 1024)              0         \n",
      "_________________________________________________________________\n",
      "reshape_1 (Reshape)          (None, 1, 1, 1024)        0         \n",
      "_________________________________________________________________\n",
      "dropout (Dropout)            (None, 1, 1, 1024)        0         \n",
      "_________________________________________________________________\n",
      "conv_preds (Conv2D)          (None, 1, 1, 5005)        5130125   \n",
      "_________________________________________________________________\n",
      "act_softmax (Activation)     (None, 1, 1, 5005)        0         \n",
      "_________________________________________________________________\n",
      "reshape_2 (Reshape)          (None, 5005)              0         \n",
      "=================================================================\n",
      "Total params: 8,358,989\n",
      "Trainable params: 8,337,101\n",
      "Non-trainable params: 21,888\n",
      "_________________________________________________________________\n"
     ]
    }
   ],
   "source": [
    "model.summary()"
   ]
  },
  {
   "cell_type": "code",
   "execution_count": 15,
   "metadata": {},
   "outputs": [
    {
     "name": "stdout",
     "output_type": "stream",
     "text": [
      "Epoch 1/100\n",
      "25361/25361 [==============================] - 4442s 175ms/step - loss: 6.1841 - categorical_crossentropy: 6.1841 - categorical_accuracy: 0.3624 - top_5_accuracy: 0.3745\n",
      "Epoch 2/100\n",
      "25361/25361 [==============================] - 4452s 176ms/step - loss: 5.6414 - categorical_crossentropy: 5.6414 - categorical_accuracy: 0.3811 - top_5_accuracy: 0.3937\n",
      "Epoch 3/100\n",
      "25361/25361 [==============================] - 4435s 175ms/step - loss: 5.4511 - categorical_crossentropy: 5.4511 - categorical_accuracy: 0.3811 - top_5_accuracy: 0.3969\n",
      "Epoch 4/100\n",
      "25361/25361 [==============================] - 4430s 175ms/step - loss: 5.2700 - categorical_crossentropy: 5.2700 - categorical_accuracy: 0.3811 - top_5_accuracy: 0.3998\n",
      "Epoch 5/100\n",
      "25361/25361 [==============================] - 4485s 177ms/step - loss: 5.0617 - categorical_crossentropy: 5.0617 - categorical_accuracy: 0.3811 - top_5_accuracy: 0.4055\n",
      "Epoch 6/100\n",
      "25361/25361 [==============================] - 4579s 181ms/step - loss: 4.8471 - categorical_crossentropy: 4.8471 - categorical_accuracy: 0.3810 - top_5_accuracy: 0.4101\n",
      "Epoch 7/100\n",
      "25361/25361 [==============================] - 4591s 181ms/step - loss: 4.7773 - categorical_crossentropy: 4.7773 - categorical_accuracy: 0.3809 - top_5_accuracy: 0.4139\n",
      "Epoch 8/100\n",
      "25361/25361 [==============================] - 4604s 182ms/step - loss: 4.3964 - categorical_crossentropy: 4.3964 - categorical_accuracy: 0.3811 - top_5_accuracy: 0.4288\n",
      "Epoch 9/100\n",
      "25361/25361 [==============================] - 4582s 181ms/step - loss: 4.0616 - categorical_crossentropy: 4.0616 - categorical_accuracy: 0.3823 - top_5_accuracy: 0.4479\n",
      "Epoch 10/100\n",
      "25361/25361 [==============================] - 4599s 181ms/step - loss: 3.7486 - categorical_crossentropy: 3.7486 - categorical_accuracy: 0.3852 - top_5_accuracy: 0.4658\n",
      "Epoch 11/100\n",
      "25361/25361 [==============================] - 4608s 182ms/step - loss: 3.4104 - categorical_crossentropy: 3.4104 - categorical_accuracy: 0.3892 - top_5_accuracy: 0.5020\n",
      "Epoch 12/100\n",
      "25361/25361 [==============================] - 4618s 182ms/step - loss: 3.0422 - categorical_crossentropy: 3.0422 - categorical_accuracy: 0.4009 - top_5_accuracy: 0.5544\n",
      "Epoch 13/100\n",
      "25361/25361 [==============================] - 4581s 181ms/step - loss: 2.6510 - categorical_crossentropy: 2.6510 - categorical_accuracy: 0.4240 - top_5_accuracy: 0.6320\n",
      "Epoch 14/100\n",
      "25361/25361 [==============================] - 4581s 181ms/step - loss: 2.2703 - categorical_crossentropy: 2.2703 - categorical_accuracy: 0.4684 - top_5_accuracy: 0.7114\n",
      "Epoch 15/100\n",
      "25361/25361 [==============================] - 4582s 181ms/step - loss: 1.8916 - categorical_crossentropy: 1.8916 - categorical_accuracy: 0.5247 - top_5_accuracy: 0.7893\n",
      "Epoch 16/100\n",
      "25361/25361 [==============================] - 4567s 180ms/step - loss: 1.4695 - categorical_crossentropy: 1.4695 - categorical_accuracy: 0.6129 - top_5_accuracy: 0.8655\n",
      "Epoch 17/100\n",
      "25361/25361 [==============================] - 4583s 181ms/step - loss: 1.2286 - categorical_crossentropy: 1.2286 - categorical_accuracy: 0.6655 - top_5_accuracy: 0.9090\n",
      "Epoch 18/100\n",
      "25361/25361 [==============================] - 4583s 181ms/step - loss: 0.9245 - categorical_crossentropy: 0.9245 - categorical_accuracy: 0.7453 - top_5_accuracy: 0.9470\n",
      "Epoch 19/100\n",
      "25361/25361 [==============================] - 4559s 180ms/step - loss: 0.8162 - categorical_crossentropy: 0.8162 - categorical_accuracy: 0.7742 - top_5_accuracy: 0.9599\n",
      "Epoch 20/100\n",
      "25361/25361 [==============================] - 4579s 181ms/step - loss: 0.4376 - categorical_crossentropy: 0.4376 - categorical_accuracy: 0.8853 - top_5_accuracy: 0.9884\n",
      "Epoch 21/100\n",
      "25361/25361 [==============================] - 4583s 181ms/step - loss: 0.4948 - categorical_crossentropy: 0.4948 - categorical_accuracy: 0.8662 - top_5_accuracy: 0.9873\n",
      "Epoch 22/100\n",
      "25361/25361 [==============================] - 4573s 180ms/step - loss: 0.3197 - categorical_crossentropy: 0.3197 - categorical_accuracy: 0.9170 - top_5_accuracy: 0.9946\n",
      "Epoch 23/100\n",
      "25361/25361 [==============================] - 4555s 180ms/step - loss: 0.3857 - categorical_crossentropy: 0.3857 - categorical_accuracy: 0.8955 - top_5_accuracy: 0.9916\n",
      "Epoch 24/100\n",
      "25361/25361 [==============================] - 4542s 179ms/step - loss: 0.1997 - categorical_crossentropy: 0.1997 - categorical_accuracy: 0.9520 - top_5_accuracy: 0.9978\n",
      "Epoch 25/100\n",
      "25361/25361 [==============================] - 4556s 180ms/step - loss: 0.1695 - categorical_crossentropy: 0.1695 - categorical_accuracy: 0.9623 - top_5_accuracy: 0.9983\n",
      "Epoch 26/100\n",
      "25361/25361 [==============================] - 4554s 180ms/step - loss: 0.3446 - categorical_crossentropy: 0.3446 - categorical_accuracy: 0.9023 - top_5_accuracy: 0.9930\n",
      "Epoch 27/100\n",
      "25361/25361 [==============================] - 4564s 180ms/step - loss: 0.2023 - categorical_crossentropy: 0.2023 - categorical_accuracy: 0.9489 - top_5_accuracy: 0.9969\n",
      "Epoch 28/100\n",
      "25361/25361 [==============================] - 4565s 180ms/step - loss: 0.2809 - categorical_crossentropy: 0.2809 - categorical_accuracy: 0.9213 - top_5_accuracy: 0.9948\n",
      "Epoch 29/100\n",
      "25361/25361 [==============================] - 4599s 181ms/step - loss: 0.2019 - categorical_crossentropy: 0.2019 - categorical_accuracy: 0.9459 - top_5_accuracy: 0.9963\n",
      "Epoch 30/100\n",
      "25361/25361 [==============================] - 4596s 181ms/step - loss: 0.2227 - categorical_crossentropy: 0.2227 - categorical_accuracy: 0.9402 - top_5_accuracy: 0.9958\n",
      "Epoch 31/100\n",
      "25361/25361 [==============================] - 4583s 181ms/step - loss: 0.2629 - categorical_crossentropy: 0.2629 - categorical_accuracy: 0.9260 - top_5_accuracy: 0.9937\n",
      "Epoch 32/100\n",
      "25361/25361 [==============================] - 4584s 181ms/step - loss: 0.1677 - categorical_crossentropy: 0.1677 - categorical_accuracy: 0.9559 - top_5_accuracy: 0.9972\n",
      "Epoch 33/100\n",
      "25361/25361 [==============================] - 4565s 180ms/step - loss: 0.1282 - categorical_crossentropy: 0.1282 - categorical_accuracy: 0.9691 - top_5_accuracy: 0.9979\n",
      "Epoch 34/100\n",
      "25361/25361 [==============================] - 4588s 181ms/step - loss: 0.1445 - categorical_crossentropy: 0.1445 - categorical_accuracy: 0.9641 - top_5_accuracy: 0.9970\n",
      "Epoch 35/100\n",
      "25361/25361 [==============================] - 4580s 181ms/step - loss: 0.1557 - categorical_crossentropy: 0.1557 - categorical_accuracy: 0.9598 - top_5_accuracy: 0.9965\n",
      "Epoch 36/100\n",
      "25361/25361 [==============================] - 4598s 181ms/step - loss: 0.0891 - categorical_crossentropy: 0.0891 - categorical_accuracy: 0.9783 - top_5_accuracy: 0.9985\n",
      "Epoch 37/100\n",
      "25361/25361 [==============================] - 4622s 182ms/step - loss: 0.3147 - categorical_crossentropy: 0.3147 - categorical_accuracy: 0.9089 - top_5_accuracy: 0.9926\n",
      "Epoch 38/100\n",
      "25361/25361 [==============================] - 4610s 182ms/step - loss: 0.2572 - categorical_crossentropy: 0.2572 - categorical_accuracy: 0.9283 - top_5_accuracy: 0.9945\n",
      "Epoch 39/100\n",
      "25361/25361 [==============================] - 4592s 181ms/step - loss: 0.1426 - categorical_crossentropy: 0.1426 - categorical_accuracy: 0.9631 - top_5_accuracy: 0.9973\n",
      "Epoch 40/100\n",
      "25361/25361 [==============================] - 4592s 181ms/step - loss: 0.1256 - categorical_crossentropy: 0.1256 - categorical_accuracy: 0.9681 - top_5_accuracy: 0.9975\n",
      "Epoch 41/100\n",
      "25361/25361 [==============================] - 4580s 181ms/step - loss: 0.1217 - categorical_crossentropy: 0.1217 - categorical_accuracy: 0.9674 - top_5_accuracy: 0.9983\n",
      "Epoch 42/100\n",
      "25361/25361 [==============================] - 4569s 180ms/step - loss: 0.0464 - categorical_crossentropy: 0.0464 - categorical_accuracy: 0.9907 - top_5_accuracy: 0.9994\n",
      "Epoch 43/100\n",
      "25361/25361 [==============================] - 4570s 180ms/step - loss: 0.0718 - categorical_crossentropy: 0.0718 - categorical_accuracy: 0.9829 - top_5_accuracy: 0.9992\n",
      "Epoch 44/100\n",
      "25361/25361 [==============================] - 4576s 180ms/step - loss: 0.1851 - categorical_crossentropy: 0.1851 - categorical_accuracy: 0.9471 - top_5_accuracy: 0.9966\n",
      "Epoch 45/100\n"
     ]
    },
    {
     "name": "stdout",
     "output_type": "stream",
     "text": [
      "25361/25361 [==============================] - 4568s 180ms/step - loss: 0.1905 - categorical_crossentropy: 0.1905 - categorical_accuracy: 0.9466 - top_5_accuracy: 0.9965\n",
      "Epoch 46/100\n",
      "25361/25361 [==============================] - 4601s 181ms/step - loss: 0.1010 - categorical_crossentropy: 0.1010 - categorical_accuracy: 0.9736 - top_5_accuracy: 0.9983\n",
      "Epoch 47/100\n",
      "25361/25361 [==============================] - 4575s 180ms/step - loss: 0.1503 - categorical_crossentropy: 0.1503 - categorical_accuracy: 0.9574 - top_5_accuracy: 0.9976\n",
      "Epoch 48/100\n",
      "25361/25361 [==============================] - 4607s 182ms/step - loss: 0.1754 - categorical_crossentropy: 0.1754 - categorical_accuracy: 0.9506 - top_5_accuracy: 0.9966\n",
      "Epoch 49/100\n",
      "25361/25361 [==============================] - 4592s 181ms/step - loss: 0.1189 - categorical_crossentropy: 0.1189 - categorical_accuracy: 0.9666 - top_5_accuracy: 0.9984\n",
      "Epoch 50/100\n",
      "25361/25361 [==============================] - 4666s 184ms/step - loss: 0.0600 - categorical_crossentropy: 0.0600 - categorical_accuracy: 0.9855 - top_5_accuracy: 0.9990\n",
      "Epoch 51/100\n",
      "25361/25361 [==============================] - 4628s 182ms/step - loss: 0.0568 - categorical_crossentropy: 0.0568 - categorical_accuracy: 0.9855 - top_5_accuracy: 0.9991\n",
      "Epoch 52/100\n",
      "25361/25361 [==============================] - 4610s 182ms/step - loss: 0.0377 - categorical_crossentropy: 0.0377 - categorical_accuracy: 0.9909 - top_5_accuracy: 0.9994\n",
      "Epoch 53/100\n",
      "25361/25361 [==============================] - 4623s 182ms/step - loss: 0.0516 - categorical_crossentropy: 0.0516 - categorical_accuracy: 0.9880 - top_5_accuracy: 0.9993\n",
      "Epoch 54/100\n",
      "25361/25361 [==============================] - 4507s 178ms/step - loss: 0.2021 - categorical_crossentropy: 0.2021 - categorical_accuracy: 0.9404 - top_5_accuracy: 0.9957\n",
      "Epoch 55/100\n",
      "25361/25361 [==============================] - 4487s 177ms/step - loss: 0.2106 - categorical_crossentropy: 0.2106 - categorical_accuracy: 0.9411 - top_5_accuracy: 0.9949\n",
      "Epoch 56/100\n",
      "25361/25361 [==============================] - 4466s 176ms/step - loss: 0.2041 - categorical_crossentropy: 0.2041 - categorical_accuracy: 0.9403 - top_5_accuracy: 0.9966\n",
      "Epoch 57/100\n",
      "25361/25361 [==============================] - 4481s 177ms/step - loss: 0.1695 - categorical_crossentropy: 0.1695 - categorical_accuracy: 0.9506 - top_5_accuracy: 0.9968\n",
      "Epoch 58/100\n",
      "25361/25361 [==============================] - 4473s 176ms/step - loss: 0.0693 - categorical_crossentropy: 0.0693 - categorical_accuracy: 0.9812 - top_5_accuracy: 0.9990\n",
      "Epoch 59/100\n",
      "25361/25361 [==============================] - 4432s 175ms/step - loss: 0.0667 - categorical_crossentropy: 0.0667 - categorical_accuracy: 0.9828 - top_5_accuracy: 0.9993\n",
      "Epoch 60/100\n",
      "25361/25361 [==============================] - 4437s 175ms/step - loss: 0.0305 - categorical_crossentropy: 0.0305 - categorical_accuracy: 0.9942 - top_5_accuracy: 0.9995\n",
      "Epoch 61/100\n",
      "25361/25361 [==============================] - 4420s 174ms/step - loss: 0.0171 - categorical_crossentropy: 0.0171 - categorical_accuracy: 0.9972 - top_5_accuracy: 0.9998\n",
      "Epoch 62/100\n",
      "25361/25361 [==============================] - 4416s 174ms/step - loss: 0.0541 - categorical_crossentropy: 0.0541 - categorical_accuracy: 0.9870 - top_5_accuracy: 0.9989\n",
      "Epoch 63/100\n",
      "25361/25361 [==============================] - 4415s 174ms/step - loss: 0.2218 - categorical_crossentropy: 0.2218 - categorical_accuracy: 0.9360 - top_5_accuracy: 0.9951\n",
      "Epoch 64/100\n",
      "25361/25361 [==============================] - 4430s 175ms/step - loss: 0.1075 - categorical_crossentropy: 0.1075 - categorical_accuracy: 0.9695 - top_5_accuracy: 0.9980\n",
      "Epoch 65/100\n",
      "25361/25361 [==============================] - 4516s 178ms/step - loss: 0.1480 - categorical_crossentropy: 0.1480 - categorical_accuracy: 0.9574 - top_5_accuracy: 0.9976\n",
      "Epoch 66/100\n",
      "25361/25361 [==============================] - 4554s 180ms/step - loss: 0.0885 - categorical_crossentropy: 0.0885 - categorical_accuracy: 0.9741 - top_5_accuracy: 0.9991\n",
      "Epoch 67/100\n",
      "25361/25361 [==============================] - 4569s 180ms/step - loss: 0.0510 - categorical_crossentropy: 0.0510 - categorical_accuracy: 0.9873 - top_5_accuracy: 0.9996\n",
      "Epoch 68/100\n",
      "25361/25361 [==============================] - 4600s 181ms/step - loss: 0.1563 - categorical_crossentropy: 0.1563 - categorical_accuracy: 0.9555 - top_5_accuracy: 0.9970\n",
      "Epoch 69/100\n",
      "25361/25361 [==============================] - 4584s 181ms/step - loss: 0.1527 - categorical_crossentropy: 0.1527 - categorical_accuracy: 0.9562 - top_5_accuracy: 0.9978\n",
      "Epoch 70/100\n",
      "25361/25361 [==============================] - 4568s 180ms/step - loss: 0.0921 - categorical_crossentropy: 0.0921 - categorical_accuracy: 0.9746 - top_5_accuracy: 0.9986\n",
      "Epoch 71/100\n",
      "25361/25361 [==============================] - 4608s 182ms/step - loss: 0.1044 - categorical_crossentropy: 0.1044 - categorical_accuracy: 0.9708 - top_5_accuracy: 0.9985\n",
      "Epoch 72/100\n",
      "25361/25361 [==============================] - 4599s 181ms/step - loss: 0.1350 - categorical_crossentropy: 0.1350 - categorical_accuracy: 0.9616 - top_5_accuracy: 0.9977\n",
      "Epoch 73/100\n",
      "25361/25361 [==============================] - 4588s 181ms/step - loss: 0.0793 - categorical_crossentropy: 0.0793 - categorical_accuracy: 0.9800 - top_5_accuracy: 0.9985\n",
      "Epoch 74/100\n",
      "25361/25361 [==============================] - 4603s 181ms/step - loss: 0.1517 - categorical_crossentropy: 0.1517 - categorical_accuracy: 0.9546 - top_5_accuracy: 0.9977\n",
      "Epoch 75/100\n",
      "25361/25361 [==============================] - 4598s 181ms/step - loss: 0.1689 - categorical_crossentropy: 0.1689 - categorical_accuracy: 0.9522 - top_5_accuracy: 0.9964\n",
      "Epoch 76/100\n",
      "25361/25361 [==============================] - 4593s 181ms/step - loss: 0.0775 - categorical_crossentropy: 0.0775 - categorical_accuracy: 0.9781 - top_5_accuracy: 0.9989\n",
      "Epoch 77/100\n",
      "25361/25361 [==============================] - 4593s 181ms/step - loss: 0.0754 - categorical_crossentropy: 0.0754 - categorical_accuracy: 0.9785 - top_5_accuracy: 0.9990\n",
      "Epoch 78/100\n",
      "25361/25361 [==============================] - 4591s 181ms/step - loss: 0.1627 - categorical_crossentropy: 0.1627 - categorical_accuracy: 0.9532 - top_5_accuracy: 0.9973\n",
      "Epoch 79/100\n",
      "25361/25361 [==============================] - 4587s 181ms/step - loss: 0.0884 - categorical_crossentropy: 0.0884 - categorical_accuracy: 0.9753 - top_5_accuracy: 0.9989\n",
      "Epoch 80/100\n",
      "25361/25361 [==============================] - 4573s 180ms/step - loss: 0.0633 - categorical_crossentropy: 0.0633 - categorical_accuracy: 0.9850 - top_5_accuracy: 0.9983\n",
      "Epoch 81/100\n",
      "25361/25361 [==============================] - 4586s 181ms/step - loss: 0.0896 - categorical_crossentropy: 0.0896 - categorical_accuracy: 0.9767 - top_5_accuracy: 0.9985\n",
      "Epoch 82/100\n",
      "25361/25361 [==============================] - 4589s 181ms/step - loss: 0.0350 - categorical_crossentropy: 0.0350 - categorical_accuracy: 0.9929 - top_5_accuracy: 0.9991\n",
      "Epoch 83/100\n",
      "25361/25361 [==============================] - 4593s 181ms/step - loss: 0.0407 - categorical_crossentropy: 0.0407 - categorical_accuracy: 0.9906 - top_5_accuracy: 0.9991\n",
      "Epoch 84/100\n",
      "25361/25361 [==============================] - 4616s 182ms/step - loss: 0.0141 - categorical_crossentropy: 0.0141 - categorical_accuracy: 0.9981 - top_5_accuracy: 0.9996\n",
      "Epoch 85/100\n",
      "25361/25361 [==============================] - 4587s 181ms/step - loss: 0.1321 - categorical_crossentropy: 0.1321 - categorical_accuracy: 0.9641 - top_5_accuracy: 0.9972\n",
      "Epoch 86/100\n",
      "25361/25361 [==============================] - 4594s 181ms/step - loss: 0.1100 - categorical_crossentropy: 0.1100 - categorical_accuracy: 0.9706 - top_5_accuracy: 0.9984\n",
      "Epoch 87/100\n",
      "25361/25361 [==============================] - 4592s 181ms/step - loss: 0.0914 - categorical_crossentropy: 0.0914 - categorical_accuracy: 0.9759 - top_5_accuracy: 0.9982\n",
      "Epoch 88/100\n",
      "25361/25361 [==============================] - 4596s 181ms/step - loss: 0.1151 - categorical_crossentropy: 0.1151 - categorical_accuracy: 0.9676 - top_5_accuracy: 0.9981\n",
      "Epoch 89/100\n"
     ]
    },
    {
     "name": "stdout",
     "output_type": "stream",
     "text": [
      "25361/25361 [==============================] - 4566s 180ms/step - loss: 0.0819 - categorical_crossentropy: 0.0819 - categorical_accuracy: 0.9787 - top_5_accuracy: 0.9981\n",
      "Epoch 90/100\n",
      "25361/25361 [==============================] - 4586s 181ms/step - loss: 0.0705 - categorical_crossentropy: 0.0705 - categorical_accuracy: 0.9805 - top_5_accuracy: 0.9987\n",
      "Epoch 91/100\n",
      "25361/25361 [==============================] - 4571s 180ms/step - loss: 0.1182 - categorical_crossentropy: 0.1182 - categorical_accuracy: 0.9684 - top_5_accuracy: 0.9974\n",
      "Epoch 92/100\n",
      "25361/25361 [==============================] - 4585s 181ms/step - loss: 0.0617 - categorical_crossentropy: 0.0617 - categorical_accuracy: 0.9832 - top_5_accuracy: 0.9991\n",
      "Epoch 93/100\n",
      "25361/25361 [==============================] - 4590s 181ms/step - loss: 0.0306 - categorical_crossentropy: 0.0306 - categorical_accuracy: 0.9929 - top_5_accuracy: 0.9993\n",
      "Epoch 94/100\n",
      "25361/25361 [==============================] - 4574s 180ms/step - loss: 0.0125 - categorical_crossentropy: 0.0125 - categorical_accuracy: 0.9979 - top_5_accuracy: 0.9996\n",
      "Epoch 95/100\n",
      "25361/25361 [==============================] - 4558s 180ms/step - loss: 0.0543 - categorical_crossentropy: 0.0543 - categorical_accuracy: 0.9867 - top_5_accuracy: 0.9991\n",
      "Epoch 96/100\n",
      "25361/25361 [==============================] - 4593s 181ms/step - loss: 0.1040 - categorical_crossentropy: 0.1040 - categorical_accuracy: 0.9730 - top_5_accuracy: 0.9981\n",
      "Epoch 97/100\n",
      "25361/25361 [==============================] - 4583s 181ms/step - loss: 0.0863 - categorical_crossentropy: 0.0863 - categorical_accuracy: 0.9763 - top_5_accuracy: 0.9989\n",
      "Epoch 98/100\n",
      "25361/25361 [==============================] - 4577s 180ms/step - loss: 0.0808 - categorical_crossentropy: 0.0808 - categorical_accuracy: 0.9786 - top_5_accuracy: 0.9986\n",
      "Epoch 99/100\n",
      "25361/25361 [==============================] - 4579s 181ms/step - loss: 0.1229 - categorical_crossentropy: 0.1229 - categorical_accuracy: 0.9646 - top_5_accuracy: 0.9980\n",
      "Epoch 100/100\n",
      "25361/25361 [==============================] - 4579s 181ms/step - loss: 0.0832 - categorical_crossentropy: 0.0832 - categorical_accuracy: 0.9773 - top_5_accuracy: 0.9987\n"
     ]
    },
    {
     "data": {
      "text/plain": [
       "150"
      ]
     },
     "execution_count": 15,
     "metadata": {},
     "output_type": "execute_result"
    }
   ],
   "source": [
    "import gc\n",
    "history = model.fit(X, y, epochs=100, batch_size=256, verbose=1)\n",
    "gc.collect()"
   ]
  },
  {
   "cell_type": "code",
   "execution_count": 16,
   "metadata": {},
   "outputs": [
    {
     "data": {
      "image/png": "[encoded data removed]",
      "text/plain": [
       "<matplotlib.figure.Figure at 0x13f02d65898>"
      ]
     },
     "metadata": {},
     "output_type": "display_data"
    }
   ],
   "source": [
    "plt.plot(history.history['categorical_accuracy'])\n",
    "plt.title('Model categorical accuracy')\n",
    "plt.ylabel('categorical accuracy')\n",
    "plt.xlabel('Epoch')\n",
    "plt.show()"
   ]
  },
  {
   "cell_type": "code",
   "execution_count": 17,
   "metadata": {},
   "outputs": [
    {
     "data": {
      "image/png": "[encoded data removed]",
      "text/plain": [
       "<matplotlib.figure.Figure at 0x13f46ac4b38>"
      ]
     },
     "metadata": {},
     "output_type": "display_data"
    }
   ],
   "source": [
    "plt.plot(history.history['categorical_crossentropy'])\n",
    "plt.title('Model loss')\n",
    "plt.ylabel('categorical_crossentropy')\n",
    "plt.xlabel('Epoch')\n",
    "plt.show()"
   ]
  },
  {
   "cell_type": "code",
   "execution_count": 18,
   "metadata": {},
   "outputs": [
    {
     "name": "stdout",
     "output_type": "stream",
     "text": [
      "7960\n"
     ]
    }
   ],
   "source": [
    "test = os.listdir(\"./input/test/\")\n",
    "print(len(test))"
   ]
  },
  {
   "cell_type": "code",
   "execution_count": 19,
   "metadata": {},
   "outputs": [],
   "source": [
    "col = ['Image']\n",
    "test_df = pd.DataFrame(test, columns=col)\n",
    "test_df['Id'] = ''"
   ]
  },
  {
   "cell_type": "code",
   "execution_count": 20,
   "metadata": {},
   "outputs": [
    {
     "name": "stdout",
     "output_type": "stream",
     "text": [
      "Preparing images\n",
      "Processing image:  1 ,  00028a005.jpg\n",
      "Processing image:  501 ,  0f9219c40.jpg\n",
      "Processing image:  1001 ,  1ea95c247.jpg\n",
      "Processing image:  1501 ,  2fe4ec2d5.jpg\n",
      "Processing image:  2001 ,  404206f77.jpg\n",
      "Processing image:  2501 ,  4fc69fd82.jpg\n",
      "Processing image:  3001 ,  5ffc2d300.jpg\n",
      "Processing image:  3501 ,  7042be267.jpg\n",
      "Processing image:  4001 ,  801c6a722.jpg\n",
      "Processing image:  4501 ,  906aa36c8.jpg\n",
      "Processing image:  5001 ,  a0d337cdc.jpg\n",
      "Processing image:  5501 ,  b1a4e4c18.jpg\n",
      "Processing image:  6001 ,  c0b378682.jpg\n",
      "Processing image:  6501 ,  cfe9d9d04.jpg\n",
      "Processing image:  7001 ,  e00620fc3.jpg\n",
      "Processing image:  7501 ,  f1b504951.jpg\n"
     ]
    }
   ],
   "source": [
    "X = prepareImages(test_df, test_df.shape[0], \"test\")\n",
    "X /= 255"
   ]
  },
  {
   "cell_type": "code",
   "execution_count": 21,
   "metadata": {},
   "outputs": [
    {
     "name": "stdout",
     "output_type": "stream",
     "text": [
      "7960/7960 [==============================] - 270s 34ms/step\n"
     ]
    }
   ],
   "source": [
    "predictions = model.predict(np.array(X), verbose=1)"
   ]
  },
  {
   "cell_type": "code",
   "execution_count": 22,
   "metadata": {},
   "outputs": [],
   "source": [
    "for i, pred in enumerate(predictions):\n",
    "    test_df.loc[i, 'Id'] = ' '.join(label_encoder.inverse_transform(pred.argsort()[-5:][::-1]))"
   ]
  },
  {
   "cell_type": "code",
   "execution_count": 23,
   "metadata": {},
   "outputs": [],
   "source": [
    "test_df.head(10)\n",
    "test_df.to_csv('submission_8.csv', index=False)"
   ]
  },
  {
   "cell_type": "code",
   "execution_count": null,
   "metadata": {
    "collapsed": true
   },
   "outputs": [],
   "source": []
  }
 ],
 "metadata": {
  "anaconda-cloud": {},
  "kernelspec": {
   "display_name": "Python 3",
   "language": "python",
   "name": "python3"
  },
  "language_info": {
   "codemirror_mode": {
    "name": "ipython",
    "version": 3
   },
   "file_extension": ".py",
   "mimetype": "text/x-python",
   "name": "python",
   "nbconvert_exporter": "python",
   "pygments_lexer": "ipython3",
   "version": "3.5.2"
  },
  "widgets": {
   "state": {},
   "version": "1.1.2"
  }
 },
 "nbformat": 4,
 "nbformat_minor": 2
}
