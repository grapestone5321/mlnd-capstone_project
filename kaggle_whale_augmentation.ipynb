{
 "cells": [
  {
   "cell_type": "markdown",
   "metadata": {},
   "source": [
    "## Kaggle Humpback Whale Identification"
   ]
  },
  {
   "cell_type": "code",
   "execution_count": 1,
   "metadata": {},
   "outputs": [
    {
     "name": "stderr",
     "output_type": "stream",
     "text": [
      "Using TensorFlow backend.\n"
     ]
    }
   ],
   "source": [
    "import numpy as np \n",
    "import pandas as pd \n",
    "import os\n",
    "import matplotlib.pyplot as plt\n",
    "import matplotlib.image as mplimg\n",
    "from matplotlib.pyplot import imshow\n",
    "\n",
    "from sklearn.preprocessing import LabelEncoder\n",
    "from sklearn.preprocessing import OneHotEncoder\n",
    "\n",
    "from keras import layers\n",
    "from keras.preprocessing import image\n",
    "from keras.applications.imagenet_utils import preprocess_input\n",
    "from keras.layers import Input, Dense, Activation, BatchNormalization, Flatten, Conv2D\n",
    "from keras.layers import AveragePooling2D, MaxPooling2D, Dropout\n",
    "from keras.models import Model\n",
    "\n",
    "import keras.backend as K\n",
    "from keras.models import Sequential\n",
    "\n",
    "import warnings\n",
    "warnings.simplefilter(\"ignore\", category=DeprecationWarning)"
   ]
  },
  {
   "cell_type": "code",
   "execution_count": 2,
   "metadata": {},
   "outputs": [
    {
     "name": "stdout",
     "output_type": "stream",
     "text": [
      "1.12.0\n"
     ]
    }
   ],
   "source": [
    "import tensorflow as tf\n",
    "print(tf.__version__)"
   ]
  },
  {
   "cell_type": "code",
   "execution_count": 3,
   "metadata": {},
   "outputs": [
    {
     "data": {
      "text/plain": [
       "['sample_submission.csv', 'test', 'train', 'train.csv']"
      ]
     },
     "execution_count": 3,
     "metadata": {},
     "output_type": "execute_result"
    }
   ],
   "source": [
    "os.listdir(\"./input/\")"
   ]
  },
  {
   "cell_type": "code",
   "execution_count": 4,
   "metadata": {},
   "outputs": [
    {
     "data": {
      "text/html": [
       "<div>\n",
       "<style scoped>\n",
       "    .dataframe tbody tr th:only-of-type {\n",
       "        vertical-align: middle;\n",
       "    }\n",
       "\n",
       "    .dataframe tbody tr th {\n",
       "        vertical-align: top;\n",
       "    }\n",
       "\n",
       "    .dataframe thead th {\n",
       "        text-align: right;\n",
       "    }\n",
       "</style>\n",
       "<table border=\"1\" class=\"dataframe\">\n",
       "  <thead>\n",
       "    <tr style=\"text-align: right;\">\n",
       "      <th></th>\n",
       "      <th>Image</th>\n",
       "      <th>Id</th>\n",
       "    </tr>\n",
       "  </thead>\n",
       "  <tbody>\n",
       "    <tr>\n",
       "      <th>0</th>\n",
       "      <td>0000e88ab.jpg</td>\n",
       "      <td>w_f48451c</td>\n",
       "    </tr>\n",
       "    <tr>\n",
       "      <th>1</th>\n",
       "      <td>0001f9222.jpg</td>\n",
       "      <td>w_c3d896a</td>\n",
       "    </tr>\n",
       "    <tr>\n",
       "      <th>2</th>\n",
       "      <td>00029d126.jpg</td>\n",
       "      <td>w_20df2c5</td>\n",
       "    </tr>\n",
       "    <tr>\n",
       "      <th>3</th>\n",
       "      <td>00050a15a.jpg</td>\n",
       "      <td>new_whale</td>\n",
       "    </tr>\n",
       "    <tr>\n",
       "      <th>4</th>\n",
       "      <td>0005c1ef8.jpg</td>\n",
       "      <td>new_whale</td>\n",
       "    </tr>\n",
       "  </tbody>\n",
       "</table>\n",
       "</div>"
      ],
      "text/plain": [
       "           Image         Id\n",
       "0  0000e88ab.jpg  w_f48451c\n",
       "1  0001f9222.jpg  w_c3d896a\n",
       "2  00029d126.jpg  w_20df2c5\n",
       "3  00050a15a.jpg  new_whale\n",
       "4  0005c1ef8.jpg  new_whale"
      ]
     },
     "execution_count": 4,
     "metadata": {},
     "output_type": "execute_result"
    }
   ],
   "source": [
    "train_df = pd.read_csv(\"./input/train.csv\")\n",
    "train_df.head()"
   ]
  },
  {
   "cell_type": "code",
   "execution_count": 5,
   "metadata": {},
   "outputs": [],
   "source": [
    "def prepareImages(data, m, dataset):\n",
    "    print(\"Preparing images\")\n",
    "    X_train = np.zeros((m, 100, 100, 3))\n",
    "    count = 0\n",
    "    \n",
    "    for fig in data['Image']:\n",
    "        #load images into images of size 100x100x3\n",
    "        img = image.load_img(\"./input/\"+dataset+\"/\"+fig, target_size=(100, 100, 3))\n",
    "        x = image.img_to_array(img)\n",
    "        x = preprocess_input(x)\n",
    "\n",
    "        X_train[count] = x\n",
    "        if (count%500 == 0):\n",
    "            print(\"Processing image: \", count+1, \", \", fig)\n",
    "        count += 1\n",
    "    \n",
    "    return X_train"
   ]
  },
  {
   "cell_type": "code",
   "execution_count": 6,
   "metadata": {},
   "outputs": [],
   "source": [
    "def prepare_labels(y):\n",
    "    values = np.array(y)\n",
    "    label_encoder = LabelEncoder()\n",
    "    integer_encoded = label_encoder.fit_transform(values)\n",
    "\n",
    "    onehot_encoder = OneHotEncoder(sparse=False)\n",
    "    integer_encoded = integer_encoded.reshape(len(integer_encoded), 1)\n",
    "    onehot_encoded = onehot_encoder.fit_transform(integer_encoded)\n",
    "\n",
    "    y = onehot_encoded\n",
    "\n",
    "    return y, label_encoder"
   ]
  },
  {
   "cell_type": "code",
   "execution_count": 7,
   "metadata": {},
   "outputs": [
    {
     "name": "stdout",
     "output_type": "stream",
     "text": [
      "Preparing images\n",
      "Processing image:  1 ,  0000e88ab.jpg\n",
      "Processing image:  501 ,  04c72257b.jpg\n",
      "Processing image:  1001 ,  09cacb84d.jpg\n",
      "Processing image:  1501 ,  0ef961892.jpg\n",
      "Processing image:  2001 ,  141b56a1a.jpg\n",
      "Processing image:  2501 ,  199a417aa.jpg\n",
      "Processing image:  3001 ,  1ec170983.jpg\n",
      "Processing image:  3501 ,  23f084b93.jpg\n",
      "Processing image:  4001 ,  29163ad0b.jpg\n",
      "Processing image:  4501 ,  2e0fab120.jpg\n",
      "Processing image:  5001 ,  3347515d9.jpg\n",
      "Processing image:  5501 ,  3842d71dc.jpg\n",
      "Processing image:  6001 ,  3d7f4c7d5.jpg\n",
      "Processing image:  6501 ,  425f763ca.jpg\n",
      "Processing image:  7001 ,  4714400cd.jpg\n",
      "Processing image:  7501 ,  4c082fbdf.jpg\n",
      "Processing image:  8001 ,  50c683e23.jpg\n",
      "Processing image:  8501 ,  560d986ad.jpg\n",
      "Processing image:  9001 ,  5b68c83ed.jpg\n",
      "Processing image:  9501 ,  60410f111.jpg\n",
      "Processing image:  10001 ,  654951f81.jpg\n",
      "Processing image:  10501 ,  6a572256c.jpg\n",
      "Processing image:  11001 ,  6f96f55b6.jpg\n",
      "Processing image:  11501 ,  74da2b511.jpg\n",
      "Processing image:  12001 ,  7989d9a27.jpg\n",
      "Processing image:  12501 ,  7e5aa2d8a.jpg\n",
      "Processing image:  13001 ,  832382cfb.jpg\n",
      "Processing image:  13501 ,  87f6c0a15.jpg\n",
      "Processing image:  14001 ,  8cfc22e5d.jpg\n",
      "Processing image:  14501 ,  91dcfedcd.jpg\n",
      "Processing image:  15001 ,  97079398e.jpg\n",
      "Processing image:  15501 ,  9c2ad64a9.jpg\n",
      "Processing image:  16001 ,  a11956dff.jpg\n",
      "Processing image:  16501 ,  a5f9ffe86.jpg\n",
      "Processing image:  17001 ,  aaf1a967b.jpg\n",
      "Processing image:  17501 ,  af9a1ffc6.jpg\n",
      "Processing image:  18001 ,  b4e02531d.jpg\n",
      "Processing image:  18501 ,  ba2355ca6.jpg\n",
      "Processing image:  19001 ,  bf60e7fed.jpg\n",
      "Processing image:  19501 ,  c49f39ce3.jpg\n",
      "Processing image:  20001 ,  c960111d0.jpg\n",
      "Processing image:  20501 ,  ce7984d8a.jpg\n",
      "Processing image:  21001 ,  d38efaec9.jpg\n",
      "Processing image:  21501 ,  d831d28ee.jpg\n",
      "Processing image:  22001 ,  dd3ca2387.jpg\n",
      "Processing image:  22501 ,  e288d66cf.jpg\n",
      "Processing image:  23001 ,  e7cc793db.jpg\n",
      "Processing image:  23501 ,  ec8c7229d.jpg\n",
      "Processing image:  24001 ,  f1b850552.jpg\n",
      "Processing image:  24501 ,  f6af8a4b8.jpg\n",
      "Processing image:  25001 ,  fc09f2302.jpg\n"
     ]
    }
   ],
   "source": [
    "X = prepareImages(train_df, train_df.shape[0], \"train\")\n",
    "X /= 255"
   ]
  },
  {
   "cell_type": "code",
   "execution_count": 8,
   "metadata": {},
   "outputs": [],
   "source": [
    "y, label_encoder = prepare_labels(train_df['Id'])"
   ]
  },
  {
   "cell_type": "code",
   "execution_count": 9,
   "metadata": {},
   "outputs": [
    {
     "data": {
      "text/plain": [
       "(25361, 5005)"
      ]
     },
     "execution_count": 9,
     "metadata": {},
     "output_type": "execute_result"
    }
   ],
   "source": [
    "y.shape"
   ]
  },
  {
   "cell_type": "code",
   "execution_count": 10,
   "metadata": {},
   "outputs": [],
   "source": [
    "def top_5_accuracy(y_true, y_pred):\n",
    "    return top_k_categorical_accuracy(y_true, y_pred, k=5)"
   ]
  },
  {
   "cell_type": "code",
   "execution_count": 11,
   "metadata": {},
   "outputs": [],
   "source": [
    "from keras.optimizers import adam\n",
    "from keras.metrics import categorical_accuracy, top_k_categorical_accuracy, categorical_crossentropy\n",
    "\n",
    "model = Sequential()\n",
    "\n",
    "model.add(Conv2D(32, (7, 7), strides = (1, 1), name = 'conv0', input_shape = (100, 100, 3)))\n",
    "\n",
    "model.add(BatchNormalization(axis = 3, name = 'bn0'))\n",
    "model.add(Activation('relu'))\n",
    "\n",
    "model.add(MaxPooling2D((2, 2), name='max_pool'))\n",
    "model.add(Conv2D(64, (3, 3), strides = (1,1), name=\"conv1\"))\n",
    "model.add(Activation('relu'))\n",
    "model.add(AveragePooling2D((3, 3), name='avg_pool'))\n",
    "\n",
    "model.add(Flatten())\n",
    "model.add(Dense(500, activation=\"relu\", name='rl'))\n",
    "model.add(Dropout(0.8))\n",
    "\n",
    "model.add(Dense(y.shape[1], activation='softmax', name='sm'))\n",
    "\n",
    "model.compile(optimizer=adam(lr=0.001), loss='categorical_crossentropy',\n",
    "              metrics=[categorical_accuracy, top_5_accuracy])"
   ]
  },
  {
   "cell_type": "code",
   "execution_count": 12,
   "metadata": {},
   "outputs": [
    {
     "name": "stdout",
     "output_type": "stream",
     "text": [
      "_________________________________________________________________\n",
      "Layer (type)                 Output Shape              Param #   \n",
      "=================================================================\n",
      "conv0 (Conv2D)               (None, 94, 94, 32)        4736      \n",
      "_________________________________________________________________\n",
      "bn0 (BatchNormalization)     (None, 94, 94, 32)        128       \n",
      "_________________________________________________________________\n",
      "activation_1 (Activation)    (None, 94, 94, 32)        0         \n",
      "_________________________________________________________________\n",
      "max_pool (MaxPooling2D)      (None, 47, 47, 32)        0         \n",
      "_________________________________________________________________\n",
      "conv1 (Conv2D)               (None, 45, 45, 64)        18496     \n",
      "_________________________________________________________________\n",
      "activation_2 (Activation)    (None, 45, 45, 64)        0         \n",
      "_________________________________________________________________\n",
      "avg_pool (AveragePooling2D)  (None, 15, 15, 64)        0         \n",
      "_________________________________________________________________\n",
      "flatten_1 (Flatten)          (None, 14400)             0         \n",
      "_________________________________________________________________\n",
      "rl (Dense)                   (None, 500)               7200500   \n",
      "_________________________________________________________________\n",
      "dropout_1 (Dropout)          (None, 500)               0         \n",
      "_________________________________________________________________\n",
      "sm (Dense)                   (None, 5005)              2507505   \n",
      "=================================================================\n",
      "Total params: 9,731,365\n",
      "Trainable params: 9,731,301\n",
      "Non-trainable params: 64\n",
      "_________________________________________________________________\n"
     ]
    }
   ],
   "source": [
    "model.summary()"
   ]
  },
  {
   "cell_type": "code",
   "execution_count": 13,
   "metadata": {},
   "outputs": [
    {
     "name": "stdout",
     "output_type": "stream",
     "text": [
      "Epoch 1/100\n",
      "25361/25361 [==============================] - 1374s 54ms/step - loss: 6.1874 - categorical_accuracy: 0.3792 - top_5_accuracy: 0.3859\n",
      "Epoch 2/100\n",
      "25361/25361 [==============================] - 1376s 54ms/step - loss: 5.9204 - categorical_accuracy: 0.3811 - top_5_accuracy: 0.3900\n",
      "Epoch 3/100\n",
      "25361/25361 [==============================] - 1399s 55ms/step - loss: 5.8330 - categorical_accuracy: 0.3811 - top_5_accuracy: 0.3907\n",
      "Epoch 4/100\n",
      "25361/25361 [==============================] - 1388s 55ms/step - loss: 5.7739 - categorical_accuracy: 0.3811 - top_5_accuracy: 0.3909\n",
      "Epoch 5/100\n",
      "25361/25361 [==============================] - 1391s 55ms/step - loss: 5.7266 - categorical_accuracy: 0.3811 - top_5_accuracy: 0.3922\n",
      "Epoch 6/100\n",
      "25361/25361 [==============================] - 1389s 55ms/step - loss: 5.6957 - categorical_accuracy: 0.3811 - top_5_accuracy: 0.3926\n",
      "Epoch 7/100\n",
      "25361/25361 [==============================] - 1377s 54ms/step - loss: 5.6623 - categorical_accuracy: 0.3811 - top_5_accuracy: 0.3930\n",
      "Epoch 8/100\n",
      "25361/25361 [==============================] - 1392s 55ms/step - loss: 5.6288 - categorical_accuracy: 0.3811 - top_5_accuracy: 0.3943\n",
      "Epoch 9/100\n",
      "25361/25361 [==============================] - 1380s 54ms/step - loss: 5.5922 - categorical_accuracy: 0.3811 - top_5_accuracy: 0.3949\n",
      "Epoch 10/100\n",
      "25361/25361 [==============================] - 1396s 55ms/step - loss: 5.5526 - categorical_accuracy: 0.3811 - top_5_accuracy: 0.3958\n",
      "Epoch 11/100\n",
      "25361/25361 [==============================] - 1373s 54ms/step - loss: 5.5075 - categorical_accuracy: 0.3811 - top_5_accuracy: 0.3982\n",
      "Epoch 12/100\n",
      "25361/25361 [==============================] - 1389s 55ms/step - loss: 5.4578 - categorical_accuracy: 0.3811 - top_5_accuracy: 0.3994\n",
      "Epoch 13/100\n",
      "25361/25361 [==============================] - 1389s 55ms/step - loss: 5.4121 - categorical_accuracy: 0.3811 - top_5_accuracy: 0.4020\n",
      "Epoch 14/100\n",
      "25361/25361 [==============================] - 1384s 55ms/step - loss: 5.3332 - categorical_accuracy: 0.3811 - top_5_accuracy: 0.4037\n",
      "Epoch 15/100\n",
      "25361/25361 [==============================] - 1387s 55ms/step - loss: 5.2522 - categorical_accuracy: 0.3811 - top_5_accuracy: 0.4069\n",
      "Epoch 16/100\n",
      "25361/25361 [==============================] - 1387s 55ms/step - loss: 5.1530 - categorical_accuracy: 0.3811 - top_5_accuracy: 0.4093\n",
      "Epoch 17/100\n",
      "25361/25361 [==============================] - 1369s 54ms/step - loss: 5.0714 - categorical_accuracy: 0.3811 - top_5_accuracy: 0.4145\n",
      "Epoch 18/100\n",
      "25361/25361 [==============================] - 1381s 54ms/step - loss: 4.9438 - categorical_accuracy: 0.3811 - top_5_accuracy: 0.4243\n",
      "Epoch 19/100\n",
      "25361/25361 [==============================] - 1399s 55ms/step - loss: 4.8056 - categorical_accuracy: 0.3810 - top_5_accuracy: 0.4314\n",
      "Epoch 20/100\n",
      "25361/25361 [==============================] - 1382s 54ms/step - loss: 4.6787 - categorical_accuracy: 0.3815 - top_5_accuracy: 0.4432\n",
      "Epoch 21/100\n",
      "25361/25361 [==============================] - 1379s 54ms/step - loss: 4.5010 - categorical_accuracy: 0.3820 - top_5_accuracy: 0.4564\n",
      "Epoch 22/100\n",
      "25361/25361 [==============================] - 1379s 54ms/step - loss: 4.3301 - categorical_accuracy: 0.3846 - top_5_accuracy: 0.4730\n",
      "Epoch 23/100\n",
      "25361/25361 [==============================] - 1419s 56ms/step - loss: 4.1063 - categorical_accuracy: 0.3880 - top_5_accuracy: 0.4987\n",
      "Epoch 24/100\n",
      "25361/25361 [==============================] - 1399s 55ms/step - loss: 3.9167 - categorical_accuracy: 0.3915 - top_5_accuracy: 0.5193\n",
      "Epoch 25/100\n",
      "25361/25361 [==============================] - 1419s 56ms/step - loss: 3.7021 - categorical_accuracy: 0.3989 - top_5_accuracy: 0.5472\n",
      "Epoch 26/100\n",
      "25361/25361 [==============================] - 1408s 56ms/step - loss: 3.4776 - categorical_accuracy: 0.4129 - top_5_accuracy: 0.5725\n",
      "Epoch 27/100\n",
      "25361/25361 [==============================] - 1418s 56ms/step - loss: 3.2707 - categorical_accuracy: 0.4260 - top_5_accuracy: 0.6008\n",
      "Epoch 28/100\n",
      "25361/25361 [==============================] - 1419s 56ms/step - loss: 3.0504 - categorical_accuracy: 0.4428 - top_5_accuracy: 0.6310\n",
      "Epoch 29/100\n",
      "25361/25361 [==============================] - 1407s 55ms/step - loss: 2.8286 - categorical_accuracy: 0.4633 - top_5_accuracy: 0.6615\n",
      "Epoch 30/100\n",
      "25361/25361 [==============================] - 1417s 56ms/step - loss: 2.6455 - categorical_accuracy: 0.4830 - top_5_accuracy: 0.6878\n",
      "Epoch 31/100\n",
      "25361/25361 [==============================] - 1408s 56ms/step - loss: 2.4977 - categorical_accuracy: 0.5000 - top_5_accuracy: 0.7066\n",
      "Epoch 32/100\n",
      "25361/25361 [==============================] - 1411s 56ms/step - loss: 2.3273 - categorical_accuracy: 0.5215 - top_5_accuracy: 0.7336\n",
      "Epoch 33/100\n",
      "25361/25361 [==============================] - 1396s 55ms/step - loss: 2.1950 - categorical_accuracy: 0.5340 - top_5_accuracy: 0.7524\n",
      "Epoch 34/100\n",
      "25361/25361 [==============================] - 1412s 56ms/step - loss: 2.0702 - categorical_accuracy: 0.5552 - top_5_accuracy: 0.7703\n",
      "Epoch 35/100\n",
      "25361/25361 [==============================] - 1405s 55ms/step - loss: 1.9150 - categorical_accuracy: 0.5787 - top_5_accuracy: 0.7913\n",
      "Epoch 36/100\n",
      "25361/25361 [==============================] - 1402s 55ms/step - loss: 1.8600 - categorical_accuracy: 0.5877 - top_5_accuracy: 0.7991\n",
      "Epoch 37/100\n",
      "25361/25361 [==============================] - 1414s 56ms/step - loss: 1.7246 - categorical_accuracy: 0.6093 - top_5_accuracy: 0.8189\n",
      "Epoch 38/100\n",
      "25361/25361 [==============================] - 1405s 55ms/step - loss: 1.6598 - categorical_accuracy: 0.6249 - top_5_accuracy: 0.8275\n",
      "Epoch 39/100\n",
      "25361/25361 [==============================] - 1397s 55ms/step - loss: 1.5721 - categorical_accuracy: 0.6370 - top_5_accuracy: 0.8403\n",
      "Epoch 40/100\n",
      "25361/25361 [==============================] - 1416s 56ms/step - loss: 1.4823 - categorical_accuracy: 0.6495 - top_5_accuracy: 0.8502\n",
      "Epoch 41/100\n",
      "25361/25361 [==============================] - 1411s 56ms/step - loss: 1.4253 - categorical_accuracy: 0.6628 - top_5_accuracy: 0.8586\n",
      "Epoch 42/100\n",
      "25361/25361 [==============================] - 1413s 56ms/step - loss: 1.3733 - categorical_accuracy: 0.6758 - top_5_accuracy: 0.8659\n",
      "Epoch 43/100\n",
      "25361/25361 [==============================] - 1403s 55ms/step - loss: 1.2902 - categorical_accuracy: 0.6933 - top_5_accuracy: 0.8778\n",
      "Epoch 44/100\n",
      "25361/25361 [==============================] - 1421s 56ms/step - loss: 1.2605 - categorical_accuracy: 0.6939 - top_5_accuracy: 0.8834\n",
      "Epoch 45/100\n",
      "25361/25361 [==============================] - 1402s 55ms/step - loss: 1.1945 - categorical_accuracy: 0.7069 - top_5_accuracy: 0.8916\n",
      "Epoch 46/100\n",
      "25361/25361 [==============================] - 1410s 56ms/step - loss: 1.1636 - categorical_accuracy: 0.7140 - top_5_accuracy: 0.8920\n",
      "Epoch 47/100\n",
      "25361/25361 [==============================] - 1408s 56ms/step - loss: 1.1099 - categorical_accuracy: 0.7266 - top_5_accuracy: 0.9006\n",
      "Epoch 48/100\n",
      "25361/25361 [==============================] - 1411s 56ms/step - loss: 1.0733 - categorical_accuracy: 0.7308 - top_5_accuracy: 0.9059\n",
      "Epoch 49/100\n",
      "25361/25361 [==============================] - 1376s 54ms/step - loss: 1.0406 - categorical_accuracy: 0.7402 - top_5_accuracy: 0.9119\n",
      "Epoch 50/100\n",
      "25361/25361 [==============================] - 1409s 56ms/step - loss: 0.9914 - categorical_accuracy: 0.7465 - top_5_accuracy: 0.9164\n",
      "Epoch 51/100\n",
      "25361/25361 [==============================] - 1410s 56ms/step - loss: 0.9770 - categorical_accuracy: 0.7539 - top_5_accuracy: 0.9183\n",
      "Epoch 52/100\n",
      "25361/25361 [==============================] - 1400s 55ms/step - loss: 0.9411 - categorical_accuracy: 0.7620 - top_5_accuracy: 0.9216\n",
      "Epoch 53/100\n",
      "25361/25361 [==============================] - 1403s 55ms/step - loss: 0.9004 - categorical_accuracy: 0.7708 - top_5_accuracy: 0.9261\n",
      "Epoch 54/100\n",
      "25361/25361 [==============================] - 1410s 56ms/step - loss: 0.8916 - categorical_accuracy: 0.7726 - top_5_accuracy: 0.9275\n",
      "Epoch 55/100\n",
      "25361/25361 [==============================] - 1416s 56ms/step - loss: 0.8516 - categorical_accuracy: 0.7809 - top_5_accuracy: 0.9343\n",
      "Epoch 56/100\n"
     ]
    },
    {
     "name": "stdout",
     "output_type": "stream",
     "text": [
      "25361/25361 [==============================] - 1419s 56ms/step - loss: 0.8354 - categorical_accuracy: 0.7827 - top_5_accuracy: 0.9352\n",
      "Epoch 57/100\n",
      "25361/25361 [==============================] - 1423s 56ms/step - loss: 0.8132 - categorical_accuracy: 0.7898 - top_5_accuracy: 0.9391\n",
      "Epoch 58/100\n",
      "25361/25361 [==============================] - 1418s 56ms/step - loss: 0.8031 - categorical_accuracy: 0.7954 - top_5_accuracy: 0.9380\n",
      "Epoch 59/100\n",
      "25361/25361 [==============================] - 1405s 55ms/step - loss: 0.7793 - categorical_accuracy: 0.7967 - top_5_accuracy: 0.9413\n",
      "Epoch 60/100\n",
      "25361/25361 [==============================] - 1408s 56ms/step - loss: 0.7506 - categorical_accuracy: 0.8020 - top_5_accuracy: 0.9450\n",
      "Epoch 61/100\n",
      "25361/25361 [==============================] - 1402s 55ms/step - loss: 0.7599 - categorical_accuracy: 0.8034 - top_5_accuracy: 0.9442\n",
      "Epoch 62/100\n",
      "25361/25361 [==============================] - 1410s 56ms/step - loss: 0.7131 - categorical_accuracy: 0.8129 - top_5_accuracy: 0.9473\n",
      "Epoch 63/100\n",
      "25361/25361 [==============================] - 1405s 55ms/step - loss: 0.7147 - categorical_accuracy: 0.8145 - top_5_accuracy: 0.9478\n",
      "Epoch 64/100\n",
      "25361/25361 [==============================] - 1415s 56ms/step - loss: 0.6953 - categorical_accuracy: 0.8159 - top_5_accuracy: 0.9507\n",
      "Epoch 65/100\n",
      "25361/25361 [==============================] - 1399s 55ms/step - loss: 0.6848 - categorical_accuracy: 0.8198 - top_5_accuracy: 0.9529\n",
      "Epoch 66/100\n",
      "25361/25361 [==============================] - 1401s 55ms/step - loss: 0.6621 - categorical_accuracy: 0.8267 - top_5_accuracy: 0.9544\n",
      "Epoch 67/100\n",
      "25361/25361 [==============================] - 1406s 55ms/step - loss: 0.6431 - categorical_accuracy: 0.8342 - top_5_accuracy: 0.9552\n",
      "Epoch 68/100\n",
      "25361/25361 [==============================] - 1403s 55ms/step - loss: 0.6443 - categorical_accuracy: 0.8292 - top_5_accuracy: 0.9566\n",
      "Epoch 69/100\n",
      "25361/25361 [==============================] - 1412s 56ms/step - loss: 0.6267 - categorical_accuracy: 0.8335 - top_5_accuracy: 0.9595\n",
      "Epoch 70/100\n",
      "25361/25361 [==============================] - 1381s 54ms/step - loss: 0.6103 - categorical_accuracy: 0.8388 - top_5_accuracy: 0.9591\n",
      "Epoch 71/100\n",
      "25361/25361 [==============================] - 1408s 56ms/step - loss: 0.6152 - categorical_accuracy: 0.8363 - top_5_accuracy: 0.9583\n",
      "Epoch 72/100\n",
      "25361/25361 [==============================] - 1396s 55ms/step - loss: 0.5978 - categorical_accuracy: 0.8421 - top_5_accuracy: 0.9602\n",
      "Epoch 73/100\n",
      "25361/25361 [==============================] - 1413s 56ms/step - loss: 0.5688 - categorical_accuracy: 0.8480 - top_5_accuracy: 0.9634\n",
      "Epoch 74/100\n",
      "25361/25361 [==============================] - 1402s 55ms/step - loss: 0.5957 - categorical_accuracy: 0.8414 - top_5_accuracy: 0.9617\n",
      "Epoch 75/100\n",
      "25361/25361 [==============================] - 1400s 55ms/step - loss: 0.5627 - categorical_accuracy: 0.8518 - top_5_accuracy: 0.9633\n",
      "Epoch 76/100\n",
      "25361/25361 [==============================] - 1415s 56ms/step - loss: 0.5534 - categorical_accuracy: 0.8553 - top_5_accuracy: 0.9642\n",
      "Epoch 77/100\n",
      "25361/25361 [==============================] - 1404s 55ms/step - loss: 0.5549 - categorical_accuracy: 0.8520 - top_5_accuracy: 0.9649\n",
      "Epoch 78/100\n",
      "25361/25361 [==============================] - 1408s 56ms/step - loss: 0.5548 - categorical_accuracy: 0.8548 - top_5_accuracy: 0.9645\n",
      "Epoch 79/100\n",
      "25361/25361 [==============================] - 1405s 55ms/step - loss: 0.5379 - categorical_accuracy: 0.8578 - top_5_accuracy: 0.9667\n",
      "Epoch 80/100\n",
      "25361/25361 [==============================] - 1409s 56ms/step - loss: 0.5270 - categorical_accuracy: 0.8608 - top_5_accuracy: 0.9674\n",
      "Epoch 81/100\n",
      "25361/25361 [==============================] - 1388s 55ms/step - loss: 0.5270 - categorical_accuracy: 0.8625 - top_5_accuracy: 0.9676\n",
      "Epoch 82/100\n",
      "25361/25361 [==============================] - 1412s 56ms/step - loss: 0.5297 - categorical_accuracy: 0.8612 - top_5_accuracy: 0.9657\n",
      "Epoch 83/100\n",
      "25361/25361 [==============================] - 1405s 55ms/step - loss: 0.5049 - categorical_accuracy: 0.8632 - top_5_accuracy: 0.9690\n",
      "Epoch 84/100\n",
      "25361/25361 [==============================] - 1409s 56ms/step - loss: 0.5102 - categorical_accuracy: 0.8643 - top_5_accuracy: 0.9688\n",
      "Epoch 85/100\n",
      "25361/25361 [==============================] - 1404s 55ms/step - loss: 0.4836 - categorical_accuracy: 0.8713 - top_5_accuracy: 0.9717\n",
      "Epoch 86/100\n",
      "25361/25361 [==============================] - 1408s 56ms/step - loss: 0.4828 - categorical_accuracy: 0.8719 - top_5_accuracy: 0.9716\n",
      "Epoch 87/100\n",
      "25361/25361 [==============================] - 1399s 55ms/step - loss: 0.4811 - categorical_accuracy: 0.8708 - top_5_accuracy: 0.9716\n",
      "Epoch 88/100\n",
      "25361/25361 [==============================] - 1389s 55ms/step - loss: 0.4895 - categorical_accuracy: 0.8688 - top_5_accuracy: 0.9706\n",
      "Epoch 89/100\n",
      "25361/25361 [==============================] - 1402s 55ms/step - loss: 0.4786 - categorical_accuracy: 0.8735 - top_5_accuracy: 0.9731\n",
      "Epoch 90/100\n",
      "25361/25361 [==============================] - 1385s 55ms/step - loss: 0.4731 - categorical_accuracy: 0.8715 - top_5_accuracy: 0.9715\n",
      "Epoch 91/100\n",
      "25361/25361 [==============================] - 1387s 55ms/step - loss: 0.4739 - categorical_accuracy: 0.8728 - top_5_accuracy: 0.9728\n",
      "Epoch 92/100\n",
      "25361/25361 [==============================] - 1415s 56ms/step - loss: 0.4642 - categorical_accuracy: 0.8749 - top_5_accuracy: 0.9730\n",
      "Epoch 93/100\n",
      "25361/25361 [==============================] - 1386s 55ms/step - loss: 0.4455 - categorical_accuracy: 0.8830 - top_5_accuracy: 0.9746\n",
      "Epoch 94/100\n",
      "25361/25361 [==============================] - 1413s 56ms/step - loss: 0.4440 - categorical_accuracy: 0.8819 - top_5_accuracy: 0.9751\n",
      "Epoch 95/100\n",
      "25361/25361 [==============================] - 1404s 55ms/step - loss: 0.4588 - categorical_accuracy: 0.8775 - top_5_accuracy: 0.9740\n",
      "Epoch 96/100\n",
      "25361/25361 [==============================] - 1404s 55ms/step - loss: 0.4292 - categorical_accuracy: 0.8836 - top_5_accuracy: 0.9750\n",
      "Epoch 97/100\n",
      "25361/25361 [==============================] - 1386s 55ms/step - loss: 0.4274 - categorical_accuracy: 0.8841 - top_5_accuracy: 0.9767\n",
      "Epoch 98/100\n",
      "25361/25361 [==============================] - 1393s 55ms/step - loss: 0.4201 - categorical_accuracy: 0.8887 - top_5_accuracy: 0.9759\n",
      "Epoch 99/100\n",
      "25361/25361 [==============================] - 1392s 55ms/step - loss: 0.4179 - categorical_accuracy: 0.8882 - top_5_accuracy: 0.9764\n",
      "Epoch 100/100\n",
      "25361/25361 [==============================] - 1407s 55ms/step - loss: 0.4051 - categorical_accuracy: 0.8897 - top_5_accuracy: 0.9778\n"
     ]
    },
    {
     "data": {
      "text/plain": [
       "75"
      ]
     },
     "execution_count": 13,
     "metadata": {},
     "output_type": "execute_result"
    }
   ],
   "source": [
    "import gc\n",
    "history = model.fit(X, y, epochs=100, batch_size=128, verbose=1)\n",
    "gc.collect()"
   ]
  },
  {
   "cell_type": "code",
   "execution_count": 14,
   "metadata": {},
   "outputs": [],
   "source": [
    "model.save('./working/aug_model.hdf5')"
   ]
  },
  {
   "cell_type": "code",
   "execution_count": 15,
   "metadata": {},
   "outputs": [
    {
     "data": {
      "image/png": "[encoded data removed]",
      "text/plain": [
       "<matplotlib.figure.Figure at 0x1b719e28400>"
      ]
     },
     "metadata": {},
     "output_type": "display_data"
    }
   ],
   "source": [
    "plt.plot(history.history['categorical_accuracy'])\n",
    "plt.title('Model categorical accuracy')\n",
    "plt.ylabel('categorical accuracy')\n",
    "plt.xlabel('Epoch')\n",
    "plt.show()"
   ]
  },
  {
   "cell_type": "code",
   "execution_count": 16,
   "metadata": {},
   "outputs": [
    {
     "data": {
      "image/png": "[encoded data removed]",
      "text/plain": [
       "<matplotlib.figure.Figure at 0x1b719947d68>"
      ]
     },
     "metadata": {},
     "output_type": "display_data"
    }
   ],
   "source": [
    "plt.plot(history.history['loss'])\n",
    "plt.title('Model loss')\n",
    "plt.ylabel('loss')\n",
    "plt.xlabel('Epoch')\n",
    "plt.show()"
   ]
  },
  {
   "cell_type": "markdown",
   "metadata": {},
   "source": [
    "### Augmentation"
   ]
  },
  {
   "cell_type": "code",
   "execution_count": 17,
   "metadata": {},
   "outputs": [],
   "source": [
    "from keras.preprocessing.image import ImageDataGenerator\n",
    "\n",
    "train_datagen = ImageDataGenerator(\n",
    "    #rescale=1./255,\n",
    "    #hear_range=0.2,\n",
    "    #zoom_range=0.2,\n",
    "    horizontal_flip=True,\n",
    "    #rotation_range=90,\n",
    "    #featurewise_center=True,\n",
    "    width_shift_range=0.2,\n",
    "    height_shift_range=0.2)\n",
    "\n",
    "train_datagen.fit(X)"
   ]
  },
  {
   "cell_type": "code",
   "execution_count": 18,
   "metadata": {},
   "outputs": [],
   "source": [
    "from keras.applications import MobileNet\n",
    "from keras.applications.mobilenet import preprocess_input\n",
    "from keras.optimizers import Adam\n",
    "from keras.metrics import categorical_accuracy, top_k_categorical_accuracy, categorical_crossentropy\n",
    "from keras.preprocessing.image import ImageDataGenerator\n",
    "from keras.callbacks import EarlyStopping, ReduceLROnPlateau, ModelCheckpoint"
   ]
  },
  {
   "cell_type": "code",
   "execution_count": 19,
   "metadata": {},
   "outputs": [],
   "source": [
    "BATCH_SIZE = 128\n",
    "EPOCHS = 100"
   ]
  },
  {
   "cell_type": "code",
   "execution_count": 20,
   "metadata": {},
   "outputs": [],
   "source": [
    "def top_5_accuracy(y_true, y_pred):\n",
    "    return top_k_categorical_accuracy(y_true, y_pred, k=5)"
   ]
  },
  {
   "cell_type": "code",
   "execution_count": 21,
   "metadata": {},
   "outputs": [],
   "source": [
    "from keras.optimizers import adam\n",
    "from keras.metrics import categorical_accuracy, top_k_categorical_accuracy, categorical_crossentropy\n",
    "\n",
    "model = Sequential()\n",
    "\n",
    "model.add(Conv2D(32, (7, 7), strides = (1, 1), name = 'conv0', input_shape = (100, 100, 3)))\n",
    "\n",
    "model.add(BatchNormalization(axis = 3, name = 'bn0'))\n",
    "model.add(Activation('relu'))\n",
    "\n",
    "model.add(MaxPooling2D((2, 2), name='max_pool'))\n",
    "model.add(Conv2D(64, (3, 3), strides = (1,1), name=\"conv1\"))\n",
    "model.add(Activation('relu'))\n",
    "model.add(AveragePooling2D((3, 3), name='avg_pool'))\n",
    "\n",
    "model.add(Flatten())\n",
    "model.add(Dense(500, activation=\"relu\", name='rl'))\n",
    "model.add(Dropout(0.8))\n",
    "\n",
    "model.add(Dense(y.shape[1], activation='softmax', name='sm'))\n",
    "\n",
    "model.compile(optimizer=adam(lr=0.001), loss='categorical_crossentropy',\n",
    "              metrics=[categorical_accuracy, top_5_accuracy])\n"
   ]
  },
  {
   "cell_type": "code",
   "execution_count": 22,
   "metadata": {
    "scrolled": true
   },
   "outputs": [
    {
     "name": "stdout",
     "output_type": "stream",
     "text": [
      "_________________________________________________________________\n",
      "Layer (type)                 Output Shape              Param #   \n",
      "=================================================================\n",
      "conv0 (Conv2D)               (None, 94, 94, 32)        4736      \n",
      "_________________________________________________________________\n",
      "bn0 (BatchNormalization)     (None, 94, 94, 32)        128       \n",
      "_________________________________________________________________\n",
      "activation_3 (Activation)    (None, 94, 94, 32)        0         \n",
      "_________________________________________________________________\n",
      "max_pool (MaxPooling2D)      (None, 47, 47, 32)        0         \n",
      "_________________________________________________________________\n",
      "conv1 (Conv2D)               (None, 45, 45, 64)        18496     \n",
      "_________________________________________________________________\n",
      "activation_4 (Activation)    (None, 45, 45, 64)        0         \n",
      "_________________________________________________________________\n",
      "avg_pool (AveragePooling2D)  (None, 15, 15, 64)        0         \n",
      "_________________________________________________________________\n",
      "flatten_2 (Flatten)          (None, 14400)             0         \n",
      "_________________________________________________________________\n",
      "rl (Dense)                   (None, 500)               7200500   \n",
      "_________________________________________________________________\n",
      "dropout_2 (Dropout)          (None, 500)               0         \n",
      "_________________________________________________________________\n",
      "sm (Dense)                   (None, 5005)              2507505   \n",
      "=================================================================\n",
      "Total params: 9,731,365\n",
      "Trainable params: 9,731,301\n",
      "Non-trainable params: 64\n",
      "_________________________________________________________________\n"
     ]
    }
   ],
   "source": [
    "model.summary()"
   ]
  },
  {
   "cell_type": "code",
   "execution_count": 23,
   "metadata": {},
   "outputs": [],
   "source": [
    "callbacks = [EarlyStopping(monitor='val_loss',\n",
    "                           patience=20,\n",
    "                           verbose=1,\n",
    "                           min_delta=0.00001,\n",
    "                           mode='min'),\n",
    "             ReduceLROnPlateau(monitor='val_loss',\n",
    "                               factor=0.1,\n",
    "                               patience=2,\n",
    "                               verbose=1,\n",
    "                               min_delta=0.0001,\n",
    "                               mode='min'),\n",
    "             ModelCheckpoint(monitor='val_loss',save_weights_only=True,\n",
    "                             filepath='./working/aug_model.hdf5',\n",
    "                             save_best_only=True,\n",
    "                             mode='min') ,\n",
    "             ]"
   ]
  },
  {
   "cell_type": "code",
   "execution_count": 24,
   "metadata": {},
   "outputs": [
    {
     "name": "stdout",
     "output_type": "stream",
     "text": [
      "Epoch 1/100\n",
      "198/198 [==============================] - 1426s 7s/step - loss: 6.2009 - categorical_accuracy: 0.3790 - top_5_accuracy: 0.3851\n",
      "Epoch 2/100\n"
     ]
    },
    {
     "name": "stderr",
     "output_type": "stream",
     "text": [
      "C:\\Users\\Naruhiko\\Anaconda3\\envs\\carnd-term1\\lib\\site-packages\\keras\\callbacks.py:569: RuntimeWarning: Early stopping conditioned on metric `val_loss` which is not available. Available metrics are: categorical_accuracy,top_5_accuracy,loss\n",
      "  (self.monitor, ','.join(list(logs.keys()))), RuntimeWarning\n",
      "C:\\Users\\Naruhiko\\Anaconda3\\envs\\carnd-term1\\lib\\site-packages\\keras\\callbacks.py:1109: RuntimeWarning: Reduce LR on plateau conditioned on metric `val_loss` which is not available. Available metrics are: categorical_accuracy,top_5_accuracy,lr,loss\n",
      "  (self.monitor, ','.join(list(logs.keys()))), RuntimeWarning\n",
      "C:\\Users\\Naruhiko\\Anaconda3\\envs\\carnd-term1\\lib\\site-packages\\keras\\callbacks.py:434: RuntimeWarning: Can save best model only with val_loss available, skipping.\n",
      "  'skipping.' % (self.monitor), RuntimeWarning)\n"
     ]
    },
    {
     "name": "stdout",
     "output_type": "stream",
     "text": [
      "198/198 [==============================] - 1409s 7s/step - loss: 5.9614 - categorical_accuracy: 0.3822 - top_5_accuracy: 0.3904\n",
      "Epoch 3/100\n",
      "198/198 [==============================] - 1397s 7s/step - loss: 5.8947 - categorical_accuracy: 0.3796 - top_5_accuracy: 0.3883\n",
      "Epoch 4/100\n",
      "198/198 [==============================] - 1410s 7s/step - loss: 5.8036 - categorical_accuracy: 0.3819 - top_5_accuracy: 0.3915\n",
      "Epoch 5/100\n",
      "198/198 [==============================] - 1396s 7s/step - loss: 5.7783 - categorical_accuracy: 0.3804 - top_5_accuracy: 0.3897\n",
      "Epoch 6/100\n",
      "198/198 [==============================] - 1407s 7s/step - loss: 5.7573 - categorical_accuracy: 0.3813 - top_5_accuracy: 0.3909\n",
      "Epoch 7/100\n",
      "198/198 [==============================] - 1395s 7s/step - loss: 5.7486 - categorical_accuracy: 0.3814 - top_5_accuracy: 0.3910\n",
      "Epoch 8/100\n",
      "198/198 [==============================] - 1405s 7s/step - loss: 5.7469 - categorical_accuracy: 0.3802 - top_5_accuracy: 0.3903\n",
      "Epoch 9/100\n",
      "198/198 [==============================] - 1401s 7s/step - loss: 5.7350 - categorical_accuracy: 0.3818 - top_5_accuracy: 0.3916\n",
      "Epoch 10/100\n",
      "198/198 [==============================] - 1399s 7s/step - loss: 5.7235 - categorical_accuracy: 0.3821 - top_5_accuracy: 0.3920\n",
      "Epoch 11/100\n",
      "198/198 [==============================] - 1409s 7s/step - loss: 5.7227 - categorical_accuracy: 0.3807 - top_5_accuracy: 0.3896\n",
      "Epoch 12/100\n",
      "198/198 [==============================] - 1399s 7s/step - loss: 5.7040 - categorical_accuracy: 0.3828 - top_5_accuracy: 0.3931\n",
      "Epoch 13/100\n",
      "198/198 [==============================] - 1408s 7s/step - loss: 5.7162 - categorical_accuracy: 0.3800 - top_5_accuracy: 0.3904\n",
      "Epoch 14/100\n",
      "198/198 [==============================] - 1400s 7s/step - loss: 5.7121 - categorical_accuracy: 0.3803 - top_5_accuracy: 0.3899\n",
      "Epoch 15/100\n",
      "198/198 [==============================] - 1409s 7s/step - loss: 5.7047 - categorical_accuracy: 0.3803 - top_5_accuracy: 0.3910\n",
      "Epoch 16/100\n",
      "198/198 [==============================] - 1398s 7s/step - loss: 5.7023 - categorical_accuracy: 0.3802 - top_5_accuracy: 0.3908\n",
      "Epoch 17/100\n",
      "198/198 [==============================] - 1407s 7s/step - loss: 5.6704 - categorical_accuracy: 0.3831 - top_5_accuracy: 0.3932\n",
      "Epoch 18/100\n",
      "198/198 [==============================] - 1411s 7s/step - loss: 5.7039 - categorical_accuracy: 0.3801 - top_5_accuracy: 0.3903\n",
      "Epoch 19/100\n",
      "198/198 [==============================] - 1404s 7s/step - loss: 5.6860 - categorical_accuracy: 0.3800 - top_5_accuracy: 0.3899\n",
      "Epoch 20/100\n",
      "198/198 [==============================] - 1411s 7s/step - loss: 5.6625 - categorical_accuracy: 0.3834 - top_5_accuracy: 0.3934\n",
      "Epoch 21/100\n",
      "198/198 [==============================] - 1402s 7s/step - loss: 5.6674 - categorical_accuracy: 0.3829 - top_5_accuracy: 0.3933\n",
      "Epoch 22/100\n",
      "198/198 [==============================] - 1405s 7s/step - loss: 5.6916 - categorical_accuracy: 0.3797 - top_5_accuracy: 0.3898\n",
      "Epoch 23/100\n",
      "198/198 [==============================] - 1395s 7s/step - loss: 5.6866 - categorical_accuracy: 0.3807 - top_5_accuracy: 0.3907\n",
      "Epoch 24/100\n",
      "198/198 [==============================] - 1405s 7s/step - loss: 5.6644 - categorical_accuracy: 0.3821 - top_5_accuracy: 0.3922\n",
      "Epoch 25/100\n",
      "198/198 [==============================] - 1405s 7s/step - loss: 5.6924 - categorical_accuracy: 0.3788 - top_5_accuracy: 0.3892\n",
      "Epoch 26/100\n",
      "198/198 [==============================] - 1399s 7s/step - loss: 5.6462 - categorical_accuracy: 0.3828 - top_5_accuracy: 0.3932\n",
      "Epoch 27/100\n",
      "198/198 [==============================] - 1408s 7s/step - loss: 5.6816 - categorical_accuracy: 0.3792 - top_5_accuracy: 0.3896\n",
      "Epoch 28/100\n",
      "198/198 [==============================] - 1391s 7s/step - loss: 5.6599 - categorical_accuracy: 0.3805 - top_5_accuracy: 0.3912\n",
      "Epoch 29/100\n",
      "198/198 [==============================] - 1412s 7s/step - loss: 5.6466 - categorical_accuracy: 0.3813 - top_5_accuracy: 0.3914\n",
      "Epoch 30/100\n",
      "198/198 [==============================] - 1398s 7s/step - loss: 5.6192 - categorical_accuracy: 0.3831 - top_5_accuracy: 0.3949\n",
      "Epoch 31/100\n",
      "198/198 [==============================] - 1407s 7s/step - loss: 5.6386 - categorical_accuracy: 0.3812 - top_5_accuracy: 0.3916\n",
      "Epoch 32/100\n",
      "198/198 [==============================] - 1398s 7s/step - loss: 5.6504 - categorical_accuracy: 0.3794 - top_5_accuracy: 0.3913\n",
      "Epoch 33/100\n",
      "198/198 [==============================] - 1403s 7s/step - loss: 5.6197 - categorical_accuracy: 0.3829 - top_5_accuracy: 0.3936\n",
      "Epoch 34/100\n",
      "198/198 [==============================] - 1404s 7s/step - loss: 5.6407 - categorical_accuracy: 0.3798 - top_5_accuracy: 0.3916\n",
      "Epoch 35/100\n",
      "198/198 [==============================] - 1391s 7s/step - loss: 5.6063 - categorical_accuracy: 0.3832 - top_5_accuracy: 0.3947\n",
      "Epoch 36/100\n",
      "198/198 [==============================] - 1406s 7s/step - loss: 5.6169 - categorical_accuracy: 0.3807 - top_5_accuracy: 0.3910\n",
      "Epoch 37/100\n",
      "198/198 [==============================] - 1399s 7s/step - loss: 5.6056 - categorical_accuracy: 0.3803 - top_5_accuracy: 0.3916\n",
      "Epoch 38/100\n",
      "198/198 [==============================] - 1403s 7s/step - loss: 5.6016 - categorical_accuracy: 0.3815 - top_5_accuracy: 0.3927\n",
      "Epoch 39/100\n",
      "198/198 [==============================] - 1394s 7s/step - loss: 5.6025 - categorical_accuracy: 0.3806 - top_5_accuracy: 0.3929\n",
      "Epoch 40/100\n",
      "198/198 [==============================] - 1408s 7s/step - loss: 5.5848 - categorical_accuracy: 0.3813 - top_5_accuracy: 0.3931\n",
      "Epoch 41/100\n",
      "198/198 [==============================] - 1394s 7s/step - loss: 5.5624 - categorical_accuracy: 0.3829 - top_5_accuracy: 0.3944\n",
      "Epoch 42/100\n",
      "198/198 [==============================] - 1406s 7s/step - loss: 5.5944 - categorical_accuracy: 0.3802 - top_5_accuracy: 0.3926\n",
      "Epoch 43/100\n",
      "198/198 [==============================] - 1400s 7s/step - loss: 5.5693 - categorical_accuracy: 0.3813 - top_5_accuracy: 0.3938\n",
      "Epoch 44/100\n",
      "198/198 [==============================] - 1399s 7s/step - loss: 5.5739 - categorical_accuracy: 0.3795 - top_5_accuracy: 0.3917\n",
      "Epoch 45/100\n",
      "198/198 [==============================] - 1403s 7s/step - loss: 5.5477 - categorical_accuracy: 0.3820 - top_5_accuracy: 0.3954\n",
      "Epoch 46/100\n",
      "198/198 [==============================] - 1399s 7s/step - loss: 5.5378 - categorical_accuracy: 0.3816 - top_5_accuracy: 0.3951\n",
      "Epoch 47/100\n",
      "198/198 [==============================] - 1406s 7s/step - loss: 5.5532 - categorical_accuracy: 0.3784 - top_5_accuracy: 0.3923\n",
      "Epoch 48/100\n",
      "198/198 [==============================] - 1396s 7s/step - loss: 5.5253 - categorical_accuracy: 0.3807 - top_5_accuracy: 0.3939\n",
      "Epoch 49/100\n",
      "198/198 [==============================] - 1399s 7s/step - loss: 5.5363 - categorical_accuracy: 0.3792 - top_5_accuracy: 0.3924\n",
      "Epoch 50/100\n",
      "198/198 [==============================] - 1397s 7s/step - loss: 5.4930 - categorical_accuracy: 0.3823 - top_5_accuracy: 0.3964\n",
      "Epoch 51/100\n",
      "198/198 [==============================] - 1405s 7s/step - loss: 5.4754 - categorical_accuracy: 0.3834 - top_5_accuracy: 0.3983\n",
      "Epoch 52/100\n",
      "198/198 [==============================] - 1403s 7s/step - loss: 5.4928 - categorical_accuracy: 0.3806 - top_5_accuracy: 0.3952\n",
      "Epoch 53/100\n",
      "198/198 [==============================] - 1396s 7s/step - loss: 5.4692 - categorical_accuracy: 0.3811 - top_5_accuracy: 0.3976\n",
      "Epoch 54/100\n",
      "198/198 [==============================] - 1406s 7s/step - loss: 5.4754 - categorical_accuracy: 0.3795 - top_5_accuracy: 0.3941\n",
      "Epoch 55/100\n",
      "198/198 [==============================] - 1398s 7s/step - loss: 5.4536 - categorical_accuracy: 0.3798 - top_5_accuracy: 0.3951\n",
      "Epoch 56/100\n",
      "198/198 [==============================] - 1404s 7s/step - loss: 5.4271 - categorical_accuracy: 0.3821 - top_5_accuracy: 0.3971\n",
      "Epoch 57/100\n",
      "198/198 [==============================] - 1394s 7s/step - loss: 5.4325 - categorical_accuracy: 0.3814 - top_5_accuracy: 0.3972\n",
      "Epoch 58/100\n",
      "198/198 [==============================] - 1409s 7s/step - loss: 5.4270 - categorical_accuracy: 0.3803 - top_5_accuracy: 0.3979\n",
      "Epoch 59/100\n",
      "198/198 [==============================] - 1417s 7s/step - loss: 5.3868 - categorical_accuracy: 0.3831 - top_5_accuracy: 0.3991\n",
      "Epoch 60/100\n"
     ]
    },
    {
     "name": "stdout",
     "output_type": "stream",
     "text": [
      "198/198 [==============================] - 1401s 7s/step - loss: 5.3897 - categorical_accuracy: 0.3817 - top_5_accuracy: 0.3990\n",
      "Epoch 61/100\n",
      "198/198 [==============================] - 1403s 7s/step - loss: 5.3736 - categorical_accuracy: 0.3803 - top_5_accuracy: 0.3972\n",
      "Epoch 62/100\n",
      "198/198 [==============================] - 1392s 7s/step - loss: 5.3737 - categorical_accuracy: 0.3814 - top_5_accuracy: 0.3986\n",
      "Epoch 63/100\n",
      "198/198 [==============================] - 1407s 7s/step - loss: 5.3689 - categorical_accuracy: 0.3790 - top_5_accuracy: 0.3961\n",
      "Epoch 64/100\n",
      "198/198 [==============================] - 1398s 7s/step - loss: 5.3466 - categorical_accuracy: 0.3815 - top_5_accuracy: 0.3992\n",
      "Epoch 65/100\n",
      "198/198 [==============================] - 1401s 7s/step - loss: 5.3430 - categorical_accuracy: 0.3791 - top_5_accuracy: 0.3963\n",
      "Epoch 66/100\n",
      "198/198 [==============================] - 1395s 7s/step - loss: 5.3358 - categorical_accuracy: 0.3804 - top_5_accuracy: 0.3979\n",
      "Epoch 67/100\n",
      "198/198 [==============================] - 1417s 7s/step - loss: 5.2951 - categorical_accuracy: 0.3830 - top_5_accuracy: 0.4017\n",
      "Epoch 68/100\n",
      "198/198 [==============================] - 1403s 7s/step - loss: 5.2887 - categorical_accuracy: 0.3825 - top_5_accuracy: 0.4016\n",
      "Epoch 69/100\n",
      "198/198 [==============================] - 1416s 7s/step - loss: 5.2961 - categorical_accuracy: 0.3817 - top_5_accuracy: 0.3989\n",
      "Epoch 70/100\n",
      "198/198 [==============================] - 1413s 7s/step - loss: 5.2876 - categorical_accuracy: 0.3806 - top_5_accuracy: 0.3999\n",
      "Epoch 71/100\n",
      "198/198 [==============================] - 1400s 7s/step - loss: 5.2817 - categorical_accuracy: 0.3809 - top_5_accuracy: 0.4007\n",
      "Epoch 72/100\n",
      "198/198 [==============================] - 1413s 7s/step - loss: 5.2424 - categorical_accuracy: 0.3840 - top_5_accuracy: 0.4025\n",
      "Epoch 73/100\n",
      "198/198 [==============================] - 1405s 7s/step - loss: 5.2709 - categorical_accuracy: 0.3790 - top_5_accuracy: 0.3988\n",
      "Epoch 74/100\n",
      "198/198 [==============================] - 1417s 7s/step - loss: 5.2482 - categorical_accuracy: 0.3819 - top_5_accuracy: 0.4012\n",
      "Epoch 75/100\n",
      "198/198 [==============================] - 1398s 7s/step - loss: 5.2316 - categorical_accuracy: 0.3814 - top_5_accuracy: 0.4018\n",
      "Epoch 76/100\n",
      "198/198 [==============================] - 1407s 7s/step - loss: 5.2401 - categorical_accuracy: 0.3799 - top_5_accuracy: 0.3988\n",
      "Epoch 77/100\n",
      "198/198 [==============================] - 1403s 7s/step - loss: 5.2416 - categorical_accuracy: 0.3796 - top_5_accuracy: 0.4017\n",
      "Epoch 78/100\n",
      "198/198 [==============================] - 1395s 7s/step - loss: 5.2339 - categorical_accuracy: 0.3788 - top_5_accuracy: 0.3994\n",
      "Epoch 79/100\n",
      "198/198 [==============================] - 1409s 7s/step - loss: 5.1762 - categorical_accuracy: 0.3844 - top_5_accuracy: 0.4060\n",
      "Epoch 80/100\n",
      "198/198 [==============================] - 1395s 7s/step - loss: 5.2020 - categorical_accuracy: 0.3796 - top_5_accuracy: 0.4015\n",
      "Epoch 81/100\n",
      "198/198 [==============================] - 1429s 7s/step - loss: 5.2013 - categorical_accuracy: 0.3780 - top_5_accuracy: 0.3989\n",
      "Epoch 82/100\n",
      "198/198 [==============================] - 1397s 7s/step - loss: 5.1581 - categorical_accuracy: 0.3855 - top_5_accuracy: 0.4064\n",
      "Epoch 83/100\n",
      "198/198 [==============================] - 1405s 7s/step - loss: 5.1628 - categorical_accuracy: 0.3814 - top_5_accuracy: 0.4030\n",
      "Epoch 84/100\n",
      "198/198 [==============================] - 1392s 7s/step - loss: 5.1882 - categorical_accuracy: 0.3769 - top_5_accuracy: 0.3988\n",
      "Epoch 85/100\n",
      "198/198 [==============================] - 1404s 7s/step - loss: 5.1398 - categorical_accuracy: 0.3839 - top_5_accuracy: 0.4057\n",
      "Epoch 86/100\n",
      "198/198 [==============================] - 1404s 7s/step - loss: 5.1264 - categorical_accuracy: 0.3835 - top_5_accuracy: 0.4060\n",
      "Epoch 87/100\n",
      "198/198 [==============================] - 1392s 7s/step - loss: 5.1591 - categorical_accuracy: 0.3771 - top_5_accuracy: 0.3996\n",
      "Epoch 88/100\n",
      "198/198 [==============================] - 1405s 7s/step - loss: 5.0955 - categorical_accuracy: 0.3853 - top_5_accuracy: 0.4087\n",
      "Epoch 89/100\n",
      "198/198 [==============================] - 1394s 7s/step - loss: 5.1569 - categorical_accuracy: 0.3740 - top_5_accuracy: 0.3980\n",
      "Epoch 90/100\n",
      "198/198 [==============================] - 1406s 7s/step - loss: 5.1017 - categorical_accuracy: 0.3822 - top_5_accuracy: 0.4043\n",
      "Epoch 91/100\n",
      "198/198 [==============================] - 1389s 7s/step - loss: 5.0655 - categorical_accuracy: 0.3845 - top_5_accuracy: 0.4075\n",
      "Epoch 92/100\n",
      "198/198 [==============================] - 1407s 7s/step - loss: 5.0883 - categorical_accuracy: 0.3806 - top_5_accuracy: 0.4047\n",
      "Epoch 93/100\n",
      "198/198 [==============================] - 1396s 7s/step - loss: 5.0727 - categorical_accuracy: 0.3826 - top_5_accuracy: 0.4070\n",
      "Epoch 94/100\n",
      "198/198 [==============================] - 1403s 7s/step - loss: 5.0916 - categorical_accuracy: 0.3788 - top_5_accuracy: 0.4023\n",
      "Epoch 95/100\n",
      "198/198 [==============================] - 1408s 7s/step - loss: 5.0558 - categorical_accuracy: 0.3803 - top_5_accuracy: 0.4053\n",
      "Epoch 96/100\n",
      "198/198 [==============================] - 1394s 7s/step - loss: 5.0455 - categorical_accuracy: 0.3819 - top_5_accuracy: 0.4054\n",
      "Epoch 97/100\n",
      "198/198 [==============================] - 1403s 7s/step - loss: 5.0482 - categorical_accuracy: 0.3792 - top_5_accuracy: 0.4047\n",
      "Epoch 98/100\n",
      "198/198 [==============================] - 1399s 7s/step - loss: 5.0083 - categorical_accuracy: 0.3840 - top_5_accuracy: 0.4090\n",
      "Epoch 99/100\n",
      "198/198 [==============================] - 1400s 7s/step - loss: 5.0083 - categorical_accuracy: 0.3822 - top_5_accuracy: 0.4091\n",
      "Epoch 100/100\n",
      "198/198 [==============================] - 1394s 7s/step - loss: 5.0151 - categorical_accuracy: 0.3792 - top_5_accuracy: 0.4045\n"
     ]
    }
   ],
   "source": [
    "# train the model\n",
    "#checkpointer = ModelCheckpoint(filepath='./working/aug_model.h5', verbose=1, save_best_only=True)\n",
    "\n",
    "history = model.fit_generator(train_datagen.flow(X, y, batch_size=BATCH_SIZE),\n",
    "                    steps_per_epoch=X.shape[0] // BATCH_SIZE,\n",
    "                    epochs=EPOCHS, verbose=1, callbacks=callbacks)\n"
   ]
  },
  {
   "cell_type": "code",
   "execution_count": 25,
   "metadata": {},
   "outputs": [
    {
     "data": {
      "image/png": "[encoded data removed]",
      "text/plain": [
       "<matplotlib.figure.Figure at 0x1b719991eb8>"
      ]
     },
     "metadata": {},
     "output_type": "display_data"
    }
   ],
   "source": [
    "plt.plot(history.history['categorical_accuracy'])\n",
    "plt.title('Model categorical accuracy')\n",
    "plt.ylabel('categorical accuracy')\n",
    "plt.xlabel('Epoch')\n",
    "plt.show()"
   ]
  },
  {
   "cell_type": "code",
   "execution_count": 26,
   "metadata": {},
   "outputs": [
    {
     "data": {
      "image/png": "[encoded data removed]",
      "text/plain": [
       "<matplotlib.figure.Figure at 0x1b7569d9400>"
      ]
     },
     "metadata": {},
     "output_type": "display_data"
    }
   ],
   "source": [
    "plt.plot(history.history['loss'])\n",
    "plt.title('Model loss')\n",
    "plt.ylabel('loss')\n",
    "plt.xlabel('Epoch')\n",
    "plt.show()"
   ]
  },
  {
   "cell_type": "code",
   "execution_count": 27,
   "metadata": {},
   "outputs": [
    {
     "name": "stdout",
     "output_type": "stream",
     "text": [
      "7960\n"
     ]
    }
   ],
   "source": [
    "test = os.listdir(\"./input/test/\")\n",
    "print(len(test))"
   ]
  },
  {
   "cell_type": "code",
   "execution_count": 28,
   "metadata": {},
   "outputs": [],
   "source": [
    "col = ['Image']\n",
    "test_df = pd.DataFrame(test, columns=col)\n",
    "test_df['Id'] = ''"
   ]
  },
  {
   "cell_type": "code",
   "execution_count": 29,
   "metadata": {},
   "outputs": [
    {
     "name": "stdout",
     "output_type": "stream",
     "text": [
      "Preparing images\n",
      "Processing image:  1 ,  00028a005.jpg\n",
      "Processing image:  501 ,  0f9219c40.jpg\n",
      "Processing image:  1001 ,  1ea95c247.jpg\n",
      "Processing image:  1501 ,  2fe4ec2d5.jpg\n",
      "Processing image:  2001 ,  404206f77.jpg\n",
      "Processing image:  2501 ,  4fc69fd82.jpg\n",
      "Processing image:  3001 ,  5ffc2d300.jpg\n",
      "Processing image:  3501 ,  7042be267.jpg\n",
      "Processing image:  4001 ,  801c6a722.jpg\n",
      "Processing image:  4501 ,  906aa36c8.jpg\n",
      "Processing image:  5001 ,  a0d337cdc.jpg\n",
      "Processing image:  5501 ,  b1a4e4c18.jpg\n",
      "Processing image:  6001 ,  c0b378682.jpg\n",
      "Processing image:  6501 ,  cfe9d9d04.jpg\n",
      "Processing image:  7001 ,  e00620fc3.jpg\n",
      "Processing image:  7501 ,  f1b504951.jpg\n"
     ]
    }
   ],
   "source": [
    "X = prepareImages(test_df, test_df.shape[0], \"test\")\n",
    "X /= 255"
   ]
  },
  {
   "cell_type": "code",
   "execution_count": 30,
   "metadata": {},
   "outputs": [
    {
     "name": "stdout",
     "output_type": "stream",
     "text": [
      "7960/7960 [==============================] - 139s 17ms/step\n"
     ]
    }
   ],
   "source": [
    "predictions = model.predict(np.array(X), verbose=1)"
   ]
  },
  {
   "cell_type": "code",
   "execution_count": 31,
   "metadata": {},
   "outputs": [],
   "source": [
    "for i, pred in enumerate(predictions):\n",
    "    test_df.loc[i, 'Id'] = ' '.join(label_encoder.inverse_transform(pred.argsort()[-5:][::-1]))"
   ]
  },
  {
   "cell_type": "code",
   "execution_count": 32,
   "metadata": {},
   "outputs": [],
   "source": [
    "test_df.head(10)\n",
    "test_df.to_csv('submission_23.csv', index=False)"
   ]
  },
  {
   "cell_type": "code",
   "execution_count": null,
   "metadata": {
    "collapsed": true
   },
   "outputs": [],
   "source": []
  }
 ],
 "metadata": {
  "anaconda-cloud": {},
  "kernelspec": {
   "display_name": "Python 3",
   "language": "python",
   "name": "python3"
  },
  "language_info": {
   "codemirror_mode": {
    "name": "ipython",
    "version": 3
   },
   "file_extension": ".py",
   "mimetype": "text/x-python",
   "name": "python",
   "nbconvert_exporter": "python",
   "pygments_lexer": "ipython3",
   "version": "3.5.2"
  },
  "widgets": {
   "state": {},
   "version": "1.1.2"
  }
 },
 "nbformat": 4,
 "nbformat_minor": 2
}
