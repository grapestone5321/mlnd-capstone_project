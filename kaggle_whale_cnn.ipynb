{
 "cells": [
  {
   "cell_type": "markdown",
   "metadata": {},
   "source": [
    "## Kaggle Whale"
   ]
  },
  {
   "cell_type": "markdown",
   "metadata": {},
   "source": [
    "Humpback Whale Identification - CNN with Keras¶\n",
    "This kernel is based on Anezka Kolaceke's awesome work: CNN with Keras for Humpback Whale ID\n",
    "\n",
    "Keras CNN starter"
   ]
  },
  {
   "cell_type": "code",
   "execution_count": 1,
   "metadata": {},
   "outputs": [
    {
     "name": "stderr",
     "output_type": "stream",
     "text": [
      "Using TensorFlow backend.\n"
     ]
    }
   ],
   "source": [
    "import numpy as np \n",
    "import pandas as pd \n",
    "import os\n",
    "import matplotlib.pyplot as plt\n",
    "import matplotlib.image as mplimg\n",
    "from matplotlib.pyplot import imshow\n",
    "\n",
    "from sklearn.preprocessing import LabelEncoder\n",
    "from sklearn.preprocessing import OneHotEncoder\n",
    "\n",
    "from keras import layers\n",
    "from keras.preprocessing import image\n",
    "from keras.applications.imagenet_utils import preprocess_input\n",
    "from keras.layers import Input, Dense, Activation, BatchNormalization, Flatten, Conv2D\n",
    "from keras.layers import AveragePooling2D, MaxPooling2D, Dropout\n",
    "from keras.models import Model\n",
    "\n",
    "import keras.backend as K\n",
    "from keras.models import Sequential\n",
    "\n",
    "import warnings\n",
    "warnings.simplefilter(\"ignore\", category=DeprecationWarning)"
   ]
  },
  {
   "cell_type": "code",
   "execution_count": 2,
   "metadata": {},
   "outputs": [
    {
     "name": "stdout",
     "output_type": "stream",
     "text": [
      "1.12.0\n"
     ]
    }
   ],
   "source": [
    "import tensorflow as tf\n",
    "print(tf.__version__)"
   ]
  },
  {
   "cell_type": "code",
   "execution_count": 3,
   "metadata": {},
   "outputs": [
    {
     "data": {
      "text/plain": [
       "['sample_submission.csv', 'test', 'train', 'train.csv']"
      ]
     },
     "execution_count": 3,
     "metadata": {},
     "output_type": "execute_result"
    }
   ],
   "source": [
    "os.listdir(\"./input/\")"
   ]
  },
  {
   "cell_type": "code",
   "execution_count": 4,
   "metadata": {},
   "outputs": [
    {
     "data": {
      "text/html": [
       "<div>\n",
       "<style scoped>\n",
       "    .dataframe tbody tr th:only-of-type {\n",
       "        vertical-align: middle;\n",
       "    }\n",
       "\n",
       "    .dataframe tbody tr th {\n",
       "        vertical-align: top;\n",
       "    }\n",
       "\n",
       "    .dataframe thead th {\n",
       "        text-align: right;\n",
       "    }\n",
       "</style>\n",
       "<table border=\"1\" class=\"dataframe\">\n",
       "  <thead>\n",
       "    <tr style=\"text-align: right;\">\n",
       "      <th></th>\n",
       "      <th>Image</th>\n",
       "      <th>Id</th>\n",
       "    </tr>\n",
       "  </thead>\n",
       "  <tbody>\n",
       "    <tr>\n",
       "      <th>0</th>\n",
       "      <td>0000e88ab.jpg</td>\n",
       "      <td>w_f48451c</td>\n",
       "    </tr>\n",
       "    <tr>\n",
       "      <th>1</th>\n",
       "      <td>0001f9222.jpg</td>\n",
       "      <td>w_c3d896a</td>\n",
       "    </tr>\n",
       "    <tr>\n",
       "      <th>2</th>\n",
       "      <td>00029d126.jpg</td>\n",
       "      <td>w_20df2c5</td>\n",
       "    </tr>\n",
       "    <tr>\n",
       "      <th>3</th>\n",
       "      <td>00050a15a.jpg</td>\n",
       "      <td>new_whale</td>\n",
       "    </tr>\n",
       "    <tr>\n",
       "      <th>4</th>\n",
       "      <td>0005c1ef8.jpg</td>\n",
       "      <td>new_whale</td>\n",
       "    </tr>\n",
       "  </tbody>\n",
       "</table>\n",
       "</div>"
      ],
      "text/plain": [
       "           Image         Id\n",
       "0  0000e88ab.jpg  w_f48451c\n",
       "1  0001f9222.jpg  w_c3d896a\n",
       "2  00029d126.jpg  w_20df2c5\n",
       "3  00050a15a.jpg  new_whale\n",
       "4  0005c1ef8.jpg  new_whale"
      ]
     },
     "execution_count": 4,
     "metadata": {},
     "output_type": "execute_result"
    }
   ],
   "source": [
    "train_df = pd.read_csv(\"./input/train.csv\")\n",
    "train_df.head()"
   ]
  },
  {
   "cell_type": "code",
   "execution_count": 5,
   "metadata": {},
   "outputs": [],
   "source": [
    "def prepareImages(data, m, dataset):\n",
    "    print(\"Preparing images\")\n",
    "    X_train = np.zeros((m, 100, 100, 3))\n",
    "    count = 0\n",
    "    \n",
    "    for fig in data['Image']:\n",
    "        #load images into images of size 100x100x3\n",
    "        img = image.load_img(\"./input/\"+dataset+\"/\"+fig, target_size=(100, 100, 3))\n",
    "        x = image.img_to_array(img)\n",
    "        x = preprocess_input(x)\n",
    "\n",
    "        X_train[count] = x\n",
    "        if (count%500 == 0):\n",
    "            print(\"Processing image: \", count+1, \", \", fig)\n",
    "        count += 1\n",
    "    \n",
    "    return X_train"
   ]
  },
  {
   "cell_type": "code",
   "execution_count": 6,
   "metadata": {},
   "outputs": [],
   "source": [
    "def prepare_labels(y):\n",
    "    values = np.array(y)\n",
    "    label_encoder = LabelEncoder()\n",
    "    integer_encoded = label_encoder.fit_transform(values)\n",
    "    # print(integer_encoded)\n",
    "\n",
    "    onehot_encoder = OneHotEncoder(sparse=False)\n",
    "    integer_encoded = integer_encoded.reshape(len(integer_encoded), 1)\n",
    "    onehot_encoded = onehot_encoder.fit_transform(integer_encoded)\n",
    "    # print(onehot_encoded)\n",
    "\n",
    "    y = onehot_encoded\n",
    "    # print(y.shape)\n",
    "    return y, label_encoder"
   ]
  },
  {
   "cell_type": "code",
   "execution_count": 7,
   "metadata": {},
   "outputs": [
    {
     "name": "stdout",
     "output_type": "stream",
     "text": [
      "Preparing images\n",
      "Processing image:  1 ,  0000e88ab.jpg\n",
      "Processing image:  501 ,  04c72257b.jpg\n",
      "Processing image:  1001 ,  09cacb84d.jpg\n",
      "Processing image:  1501 ,  0ef961892.jpg\n",
      "Processing image:  2001 ,  141b56a1a.jpg\n",
      "Processing image:  2501 ,  199a417aa.jpg\n",
      "Processing image:  3001 ,  1ec170983.jpg\n",
      "Processing image:  3501 ,  23f084b93.jpg\n",
      "Processing image:  4001 ,  29163ad0b.jpg\n",
      "Processing image:  4501 ,  2e0fab120.jpg\n",
      "Processing image:  5001 ,  3347515d9.jpg\n",
      "Processing image:  5501 ,  3842d71dc.jpg\n",
      "Processing image:  6001 ,  3d7f4c7d5.jpg\n",
      "Processing image:  6501 ,  425f763ca.jpg\n",
      "Processing image:  7001 ,  4714400cd.jpg\n",
      "Processing image:  7501 ,  4c082fbdf.jpg\n",
      "Processing image:  8001 ,  50c683e23.jpg\n",
      "Processing image:  8501 ,  560d986ad.jpg\n",
      "Processing image:  9001 ,  5b68c83ed.jpg\n",
      "Processing image:  9501 ,  60410f111.jpg\n",
      "Processing image:  10001 ,  654951f81.jpg\n",
      "Processing image:  10501 ,  6a572256c.jpg\n",
      "Processing image:  11001 ,  6f96f55b6.jpg\n",
      "Processing image:  11501 ,  74da2b511.jpg\n",
      "Processing image:  12001 ,  7989d9a27.jpg\n",
      "Processing image:  12501 ,  7e5aa2d8a.jpg\n",
      "Processing image:  13001 ,  832382cfb.jpg\n",
      "Processing image:  13501 ,  87f6c0a15.jpg\n",
      "Processing image:  14001 ,  8cfc22e5d.jpg\n",
      "Processing image:  14501 ,  91dcfedcd.jpg\n",
      "Processing image:  15001 ,  97079398e.jpg\n",
      "Processing image:  15501 ,  9c2ad64a9.jpg\n",
      "Processing image:  16001 ,  a11956dff.jpg\n",
      "Processing image:  16501 ,  a5f9ffe86.jpg\n",
      "Processing image:  17001 ,  aaf1a967b.jpg\n",
      "Processing image:  17501 ,  af9a1ffc6.jpg\n",
      "Processing image:  18001 ,  b4e02531d.jpg\n",
      "Processing image:  18501 ,  ba2355ca6.jpg\n",
      "Processing image:  19001 ,  bf60e7fed.jpg\n",
      "Processing image:  19501 ,  c49f39ce3.jpg\n",
      "Processing image:  20001 ,  c960111d0.jpg\n",
      "Processing image:  20501 ,  ce7984d8a.jpg\n",
      "Processing image:  21001 ,  d38efaec9.jpg\n",
      "Processing image:  21501 ,  d831d28ee.jpg\n",
      "Processing image:  22001 ,  dd3ca2387.jpg\n",
      "Processing image:  22501 ,  e288d66cf.jpg\n",
      "Processing image:  23001 ,  e7cc793db.jpg\n",
      "Processing image:  23501 ,  ec8c7229d.jpg\n",
      "Processing image:  24001 ,  f1b850552.jpg\n",
      "Processing image:  24501 ,  f6af8a4b8.jpg\n",
      "Processing image:  25001 ,  fc09f2302.jpg\n"
     ]
    }
   ],
   "source": [
    "X = prepareImages(train_df, train_df.shape[0], \"train\")\n",
    "X /= 255"
   ]
  },
  {
   "cell_type": "code",
   "execution_count": 8,
   "metadata": {},
   "outputs": [],
   "source": [
    "y, label_encoder = prepare_labels(train_df['Id'])"
   ]
  },
  {
   "cell_type": "code",
   "execution_count": 9,
   "metadata": {},
   "outputs": [
    {
     "data": {
      "text/plain": [
       "(25361, 5005)"
      ]
     },
     "execution_count": 9,
     "metadata": {},
     "output_type": "execute_result"
    }
   ],
   "source": [
    "y.shape"
   ]
  },
  {
   "cell_type": "code",
   "execution_count": 10,
   "metadata": {},
   "outputs": [],
   "source": [
    "def top_5_accuracy(y_true, y_pred):\n",
    "    return top_k_categorical_accuracy(y_true, y_pred, k=5)"
   ]
  },
  {
   "cell_type": "code",
   "execution_count": 11,
   "metadata": {},
   "outputs": [],
   "source": [
    "from keras.optimizers import adam\n",
    "from keras.metrics import categorical_accuracy, top_k_categorical_accuracy, categorical_crossentropy\n",
    "\n",
    "model = Sequential()\n",
    "\n",
    "model.add(Conv2D(32, (7, 7), strides = (1, 1), name = 'conv0', input_shape = (100, 100, 3)))\n",
    "\n",
    "model.add(BatchNormalization(axis = 3, name = 'bn0'))\n",
    "model.add(Activation('relu'))\n",
    "\n",
    "model.add(MaxPooling2D((2, 2), name='max_pool'))\n",
    "model.add(Conv2D(64, (3, 3), strides = (1,1), name=\"conv1\"))\n",
    "model.add(Activation('relu'))\n",
    "model.add(AveragePooling2D((3, 3), name='avg_pool'))\n",
    "\n",
    "model.add(Flatten())\n",
    "model.add(Dense(500, activation=\"relu\", name='rl'))\n",
    "model.add(Dropout(0.8))\n",
    "\n",
    "model.add(Dense(y.shape[1], activation='softmax', name='sm'))\n",
    "\n",
    "#model.compile(optimizer=adam(lr=0.001),loss='categorical_crossentropy', metrics=['categorical_accuracy'])\n",
    "model.compile(optimizer=adam(lr=0.001), loss='categorical_crossentropy',\n",
    "              metrics=[categorical_accuracy, top_5_accuracy])\n"
   ]
  },
  {
   "cell_type": "code",
   "execution_count": 12,
   "metadata": {},
   "outputs": [
    {
     "name": "stdout",
     "output_type": "stream",
     "text": [
      "_________________________________________________________________\n",
      "Layer (type)                 Output Shape              Param #   \n",
      "=================================================================\n",
      "conv0 (Conv2D)               (None, 94, 94, 32)        4736      \n",
      "_________________________________________________________________\n",
      "bn0 (BatchNormalization)     (None, 94, 94, 32)        128       \n",
      "_________________________________________________________________\n",
      "activation_1 (Activation)    (None, 94, 94, 32)        0         \n",
      "_________________________________________________________________\n",
      "max_pool (MaxPooling2D)      (None, 47, 47, 32)        0         \n",
      "_________________________________________________________________\n",
      "conv1 (Conv2D)               (None, 45, 45, 64)        18496     \n",
      "_________________________________________________________________\n",
      "activation_2 (Activation)    (None, 45, 45, 64)        0         \n",
      "_________________________________________________________________\n",
      "avg_pool (AveragePooling2D)  (None, 15, 15, 64)        0         \n",
      "_________________________________________________________________\n",
      "flatten_1 (Flatten)          (None, 14400)             0         \n",
      "_________________________________________________________________\n",
      "rl (Dense)                   (None, 500)               7200500   \n",
      "_________________________________________________________________\n",
      "dropout_1 (Dropout)          (None, 500)               0         \n",
      "_________________________________________________________________\n",
      "sm (Dense)                   (None, 5005)              2507505   \n",
      "=================================================================\n",
      "Total params: 9,731,365\n",
      "Trainable params: 9,731,301\n",
      "Non-trainable params: 64\n",
      "_________________________________________________________________\n"
     ]
    }
   ],
   "source": [
    "model.summary()"
   ]
  },
  {
   "cell_type": "code",
   "execution_count": 13,
   "metadata": {},
   "outputs": [
    {
     "name": "stdout",
     "output_type": "stream",
     "text": [
      "Epoch 1/100\n",
      "25361/25361 [==============================] - 1410s 56ms/step - loss: 6.1747 - categorical_accuracy: 0.3789 - top_5_accuracy: 0.3861\n",
      "Epoch 2/100\n",
      "25361/25361 [==============================] - 1443s 57ms/step - loss: 5.9236 - categorical_accuracy: 0.3811 - top_5_accuracy: 0.3893\n",
      "Epoch 3/100\n",
      "25361/25361 [==============================] - 1399s 55ms/step - loss: 5.8339 - categorical_accuracy: 0.3811 - top_5_accuracy: 0.3912\n",
      "Epoch 4/100\n",
      "25361/25361 [==============================] - 1410s 56ms/step - loss: 5.7575 - categorical_accuracy: 0.3811 - top_5_accuracy: 0.3910\n",
      "Epoch 5/100\n",
      "25361/25361 [==============================] - 1411s 56ms/step - loss: 5.7045 - categorical_accuracy: 0.3811 - top_5_accuracy: 0.3914\n",
      "Epoch 6/100\n",
      "25361/25361 [==============================] - 1411s 56ms/step - loss: 5.6859 - categorical_accuracy: 0.3811 - top_5_accuracy: 0.3923\n",
      "Epoch 7/100\n",
      "25361/25361 [==============================] - 1435s 57ms/step - loss: 5.6455 - categorical_accuracy: 0.3811 - top_5_accuracy: 0.3940\n",
      "Epoch 8/100\n",
      "25361/25361 [==============================] - 1416s 56ms/step - loss: 5.6010 - categorical_accuracy: 0.3811 - top_5_accuracy: 0.3956\n",
      "Epoch 9/100\n",
      "25361/25361 [==============================] - 1443s 57ms/step - loss: 5.5541 - categorical_accuracy: 0.3811 - top_5_accuracy: 0.3967\n",
      "Epoch 10/100\n",
      "25361/25361 [==============================] - 1431s 56ms/step - loss: 5.5050 - categorical_accuracy: 0.3811 - top_5_accuracy: 0.3976\n",
      "Epoch 11/100\n",
      "25361/25361 [==============================] - 1408s 56ms/step - loss: 5.4490 - categorical_accuracy: 0.3811 - top_5_accuracy: 0.4009\n",
      "Epoch 12/100\n",
      "25361/25361 [==============================] - 1413s 56ms/step - loss: 5.3808 - categorical_accuracy: 0.3811 - top_5_accuracy: 0.4031\n",
      "Epoch 13/100\n",
      "25361/25361 [==============================] - 1420s 56ms/step - loss: 5.2998 - categorical_accuracy: 0.3811 - top_5_accuracy: 0.4059\n",
      "Epoch 14/100\n",
      "25361/25361 [==============================] - 1419s 56ms/step - loss: 5.2149 - categorical_accuracy: 0.3811 - top_5_accuracy: 0.4098\n",
      "Epoch 15/100\n",
      "25361/25361 [==============================] - 1421s 56ms/step - loss: 5.1097 - categorical_accuracy: 0.3811 - top_5_accuracy: 0.4142\n",
      "Epoch 16/100\n",
      "25361/25361 [==============================] - 1437s 57ms/step - loss: 5.0065 - categorical_accuracy: 0.3810 - top_5_accuracy: 0.4218\n",
      "Epoch 17/100\n",
      "25361/25361 [==============================] - 1412s 56ms/step - loss: 4.8890 - categorical_accuracy: 0.3812 - top_5_accuracy: 0.4307\n",
      "Epoch 18/100\n",
      "25361/25361 [==============================] - 1441s 57ms/step - loss: 4.7426 - categorical_accuracy: 0.3811 - top_5_accuracy: 0.4409\n",
      "Epoch 19/100\n",
      "25361/25361 [==============================] - 1427s 56ms/step - loss: 4.5847 - categorical_accuracy: 0.3817 - top_5_accuracy: 0.4516\n",
      "Epoch 20/100\n",
      "25361/25361 [==============================] - 1422s 56ms/step - loss: 4.4071 - categorical_accuracy: 0.3837 - top_5_accuracy: 0.4702\n",
      "Epoch 21/100\n",
      "25361/25361 [==============================] - 1422s 56ms/step - loss: 4.2112 - categorical_accuracy: 0.3861 - top_5_accuracy: 0.4932\n",
      "Epoch 22/100\n",
      "25361/25361 [==============================] - 1416s 56ms/step - loss: 4.0064 - categorical_accuracy: 0.3903 - top_5_accuracy: 0.5151\n",
      "Epoch 23/100\n",
      "25361/25361 [==============================] - 1433s 57ms/step - loss: 3.7725 - categorical_accuracy: 0.4014 - top_5_accuracy: 0.5414\n",
      "Epoch 24/100\n",
      "25361/25361 [==============================] - 1435s 57ms/step - loss: 3.5345 - categorical_accuracy: 0.4096 - top_5_accuracy: 0.5689\n",
      "Epoch 25/100\n",
      "25361/25361 [==============================] - 1419s 56ms/step - loss: 3.3243 - categorical_accuracy: 0.4231 - top_5_accuracy: 0.5984\n",
      "Epoch 26/100\n",
      "25361/25361 [==============================] - 1429s 56ms/step - loss: 3.0711 - categorical_accuracy: 0.4436 - top_5_accuracy: 0.6316\n",
      "Epoch 27/100\n",
      "25361/25361 [==============================] - 1414s 56ms/step - loss: 2.8585 - categorical_accuracy: 0.4628 - top_5_accuracy: 0.6599\n",
      "Epoch 28/100\n",
      "25361/25361 [==============================] - 1431s 56ms/step - loss: 2.6466 - categorical_accuracy: 0.4842 - top_5_accuracy: 0.6891\n",
      "Epoch 29/100\n",
      "25361/25361 [==============================] - 1423s 56ms/step - loss: 2.4585 - categorical_accuracy: 0.5076 - top_5_accuracy: 0.7160\n",
      "Epoch 30/100\n",
      "25361/25361 [==============================] - 1424s 56ms/step - loss: 2.3051 - categorical_accuracy: 0.5249 - top_5_accuracy: 0.7345\n",
      "Epoch 31/100\n",
      "25361/25361 [==============================] - 1449s 57ms/step - loss: 2.1373 - categorical_accuracy: 0.5462 - top_5_accuracy: 0.7627\n",
      "Epoch 32/100\n",
      "25361/25361 [==============================] - 1416s 56ms/step - loss: 1.9949 - categorical_accuracy: 0.5685 - top_5_accuracy: 0.7853\n",
      "Epoch 33/100\n",
      "25361/25361 [==============================] - 1430s 56ms/step - loss: 1.8891 - categorical_accuracy: 0.5836 - top_5_accuracy: 0.7959\n",
      "Epoch 34/100\n",
      "25361/25361 [==============================] - 1411s 56ms/step - loss: 1.7526 - categorical_accuracy: 0.6090 - top_5_accuracy: 0.8172\n",
      "Epoch 35/100\n",
      "25361/25361 [==============================] - 1425s 56ms/step - loss: 1.6629 - categorical_accuracy: 0.6202 - top_5_accuracy: 0.8281\n",
      "Epoch 36/100\n",
      "25361/25361 [==============================] - 1425s 56ms/step - loss: 1.5623 - categorical_accuracy: 0.6401 - top_5_accuracy: 0.8418\n",
      "Epoch 37/100\n",
      "25361/25361 [==============================] - 1414s 56ms/step - loss: 1.4847 - categorical_accuracy: 0.6515 - top_5_accuracy: 0.8525\n",
      "Epoch 38/100\n",
      "25361/25361 [==============================] - 1423s 56ms/step - loss: 1.4209 - categorical_accuracy: 0.6665 - top_5_accuracy: 0.8644\n",
      "Epoch 39/100\n",
      "25361/25361 [==============================] - 1418s 56ms/step - loss: 1.3418 - categorical_accuracy: 0.6795 - top_5_accuracy: 0.8730\n",
      "Epoch 40/100\n",
      "25361/25361 [==============================] - 1414s 56ms/step - loss: 1.2952 - categorical_accuracy: 0.6878 - top_5_accuracy: 0.8775\n",
      "Epoch 41/100\n",
      "25361/25361 [==============================] - 1413s 56ms/step - loss: 1.2092 - categorical_accuracy: 0.7042 - top_5_accuracy: 0.8877\n",
      "Epoch 42/100\n",
      "25361/25361 [==============================] - 1428s 56ms/step - loss: 1.1662 - categorical_accuracy: 0.7138 - top_5_accuracy: 0.8945\n",
      "Epoch 43/100\n",
      "25361/25361 [==============================] - 1436s 57ms/step - loss: 1.1247 - categorical_accuracy: 0.7223 - top_5_accuracy: 0.8985\n",
      "Epoch 44/100\n",
      "25361/25361 [==============================] - 1417s 56ms/step - loss: 1.0520 - categorical_accuracy: 0.7375 - top_5_accuracy: 0.9088\n",
      "Epoch 45/100\n",
      "25361/25361 [==============================] - 1396s 55ms/step - loss: 1.0164 - categorical_accuracy: 0.7447 - top_5_accuracy: 0.9142\n",
      "Epoch 46/100\n",
      "25361/25361 [==============================] - 1383s 55ms/step - loss: 0.9821 - categorical_accuracy: 0.7490 - top_5_accuracy: 0.9194\n",
      "Epoch 47/100\n",
      "25361/25361 [==============================] - 1395s 55ms/step - loss: 0.9428 - categorical_accuracy: 0.7618 - top_5_accuracy: 0.9236\n",
      "Epoch 48/100\n",
      "25361/25361 [==============================] - 1400s 55ms/step - loss: 0.9096 - categorical_accuracy: 0.7685 - top_5_accuracy: 0.9272\n",
      "Epoch 49/100\n",
      "25361/25361 [==============================] - 1402s 55ms/step - loss: 0.8843 - categorical_accuracy: 0.7739 - top_5_accuracy: 0.9293\n",
      "Epoch 50/100\n",
      "25361/25361 [==============================] - 1380s 54ms/step - loss: 0.8483 - categorical_accuracy: 0.7788 - top_5_accuracy: 0.9348\n",
      "Epoch 51/100\n",
      "25361/25361 [==============================] - 1392s 55ms/step - loss: 0.8408 - categorical_accuracy: 0.7843 - top_5_accuracy: 0.9335\n",
      "Epoch 52/100\n",
      "25361/25361 [==============================] - 1382s 54ms/step - loss: 0.7950 - categorical_accuracy: 0.7958 - top_5_accuracy: 0.9382\n",
      "Epoch 53/100\n",
      "25361/25361 [==============================] - 1390s 55ms/step - loss: 0.7911 - categorical_accuracy: 0.7955 - top_5_accuracy: 0.9388\n",
      "Epoch 54/100\n",
      "25361/25361 [==============================] - 1391s 55ms/step - loss: 0.7838 - categorical_accuracy: 0.7945 - top_5_accuracy: 0.9427\n",
      "Epoch 55/100\n",
      "25361/25361 [==============================] - 1379s 54ms/step - loss: 0.7458 - categorical_accuracy: 0.8050 - top_5_accuracy: 0.9439\n",
      "Epoch 56/100\n"
     ]
    },
    {
     "name": "stdout",
     "output_type": "stream",
     "text": [
      "25361/25361 [==============================] - 1376s 54ms/step - loss: 0.7336 - categorical_accuracy: 0.8079 - top_5_accuracy: 0.9473\n",
      "Epoch 57/100\n",
      "25361/25361 [==============================] - 1366s 54ms/step - loss: 0.7169 - categorical_accuracy: 0.8141 - top_5_accuracy: 0.9477\n",
      "Epoch 58/100\n",
      "25361/25361 [==============================] - 1386s 55ms/step - loss: 0.7063 - categorical_accuracy: 0.8155 - top_5_accuracy: 0.9498\n",
      "Epoch 59/100\n",
      "25361/25361 [==============================] - 1383s 55ms/step - loss: 0.6856 - categorical_accuracy: 0.8181 - top_5_accuracy: 0.9507\n",
      "Epoch 60/100\n",
      "25361/25361 [==============================] - 1388s 55ms/step - loss: 0.6687 - categorical_accuracy: 0.8230 - top_5_accuracy: 0.9535\n",
      "Epoch 61/100\n",
      "25361/25361 [==============================] - 1388s 55ms/step - loss: 0.6638 - categorical_accuracy: 0.8230 - top_5_accuracy: 0.9535\n",
      "Epoch 62/100\n",
      "25361/25361 [==============================] - 1384s 55ms/step - loss: 0.6359 - categorical_accuracy: 0.8310 - top_5_accuracy: 0.9559\n",
      "Epoch 63/100\n",
      "25361/25361 [==============================] - 1378s 54ms/step - loss: 0.6449 - categorical_accuracy: 0.8267 - top_5_accuracy: 0.9560\n",
      "Epoch 64/100\n",
      "25361/25361 [==============================] - 1393s 55ms/step - loss: 0.6091 - categorical_accuracy: 0.8381 - top_5_accuracy: 0.9594\n",
      "Epoch 65/100\n",
      "25361/25361 [==============================] - 1371s 54ms/step - loss: 0.5967 - categorical_accuracy: 0.8420 - top_5_accuracy: 0.9613\n",
      "Epoch 66/100\n",
      "25361/25361 [==============================] - 1375s 54ms/step - loss: 0.5755 - categorical_accuracy: 0.8453 - top_5_accuracy: 0.9649\n",
      "Epoch 67/100\n",
      "25361/25361 [==============================] - 1400s 55ms/step - loss: 0.5804 - categorical_accuracy: 0.8461 - top_5_accuracy: 0.9621\n",
      "Epoch 68/100\n",
      "25361/25361 [==============================] - 1379s 54ms/step - loss: 0.5640 - categorical_accuracy: 0.8454 - top_5_accuracy: 0.9661\n",
      "Epoch 69/100\n",
      "25361/25361 [==============================] - 1393s 55ms/step - loss: 0.5600 - categorical_accuracy: 0.8510 - top_5_accuracy: 0.9652\n",
      "Epoch 70/100\n",
      "25361/25361 [==============================] - 1394s 55ms/step - loss: 0.5712 - categorical_accuracy: 0.8495 - top_5_accuracy: 0.9624\n",
      "Epoch 71/100\n",
      "25361/25361 [==============================] - 1388s 55ms/step - loss: 0.5318 - categorical_accuracy: 0.8563 - top_5_accuracy: 0.9663\n",
      "Epoch 72/100\n",
      "25361/25361 [==============================] - 1370s 54ms/step - loss: 0.5380 - categorical_accuracy: 0.8561 - top_5_accuracy: 0.9676\n",
      "Epoch 73/100\n",
      "25361/25361 [==============================] - 1384s 55ms/step - loss: 0.5198 - categorical_accuracy: 0.8584 - top_5_accuracy: 0.9696\n",
      "Epoch 74/100\n",
      "25361/25361 [==============================] - 1374s 54ms/step - loss: 0.5034 - categorical_accuracy: 0.8635 - top_5_accuracy: 0.9699\n",
      "Epoch 75/100\n",
      "25361/25361 [==============================] - 1375s 54ms/step - loss: 0.5045 - categorical_accuracy: 0.8642 - top_5_accuracy: 0.9695\n",
      "Epoch 76/100\n",
      "25361/25361 [==============================] - 1383s 55ms/step - loss: 0.4925 - categorical_accuracy: 0.8679 - top_5_accuracy: 0.9703\n",
      "Epoch 77/100\n",
      "25361/25361 [==============================] - 1379s 54ms/step - loss: 0.5038 - categorical_accuracy: 0.8641 - top_5_accuracy: 0.9700\n",
      "Epoch 78/100\n",
      "25361/25361 [==============================] - 1366s 54ms/step - loss: 0.4810 - categorical_accuracy: 0.8733 - top_5_accuracy: 0.9723\n",
      "Epoch 79/100\n",
      "25361/25361 [==============================] - 1413s 56ms/step - loss: 0.4640 - categorical_accuracy: 0.8736 - top_5_accuracy: 0.9736\n",
      "Epoch 80/100\n",
      "25361/25361 [==============================] - 1374s 54ms/step - loss: 0.4774 - categorical_accuracy: 0.8692 - top_5_accuracy: 0.9726\n",
      "Epoch 81/100\n",
      "25361/25361 [==============================] - 1393s 55ms/step - loss: 0.4737 - categorical_accuracy: 0.8720 - top_5_accuracy: 0.9725\n",
      "Epoch 82/100\n",
      "25361/25361 [==============================] - 1417s 56ms/step - loss: 0.4505 - categorical_accuracy: 0.8762 - top_5_accuracy: 0.9743\n",
      "Epoch 83/100\n",
      "25361/25361 [==============================] - 1403s 55ms/step - loss: 0.4570 - categorical_accuracy: 0.8790 - top_5_accuracy: 0.9731\n",
      "Epoch 84/100\n",
      "25361/25361 [==============================] - 1417s 56ms/step - loss: 0.4404 - categorical_accuracy: 0.8809 - top_5_accuracy: 0.9749\n",
      "Epoch 85/100\n",
      "25361/25361 [==============================] - 1413s 56ms/step - loss: 0.4446 - categorical_accuracy: 0.8802 - top_5_accuracy: 0.9738\n",
      "Epoch 86/100\n",
      "25361/25361 [==============================] - 1431s 56ms/step - loss: 0.4289 - categorical_accuracy: 0.8823 - top_5_accuracy: 0.9758\n",
      "Epoch 87/100\n",
      "25361/25361 [==============================] - 1435s 57ms/step - loss: 0.4314 - categorical_accuracy: 0.8823 - top_5_accuracy: 0.9752\n",
      "Epoch 88/100\n",
      "25361/25361 [==============================] - 1428s 56ms/step - loss: 0.4261 - categorical_accuracy: 0.8828 - top_5_accuracy: 0.9769\n",
      "Epoch 89/100\n",
      "25361/25361 [==============================] - 1417s 56ms/step - loss: 0.4023 - categorical_accuracy: 0.8892 - top_5_accuracy: 0.9779\n",
      "Epoch 90/100\n",
      "25361/25361 [==============================] - 1390s 55ms/step - loss: 0.4231 - categorical_accuracy: 0.8842 - top_5_accuracy: 0.9767\n",
      "Epoch 91/100\n",
      "25361/25361 [==============================] - 1406s 55ms/step - loss: 0.3950 - categorical_accuracy: 0.8922 - top_5_accuracy: 0.9801\n",
      "Epoch 92/100\n",
      "25361/25361 [==============================] - 1383s 55ms/step - loss: 0.3997 - categorical_accuracy: 0.8935 - top_5_accuracy: 0.9793\n",
      "Epoch 93/100\n",
      "25361/25361 [==============================] - 1395s 55ms/step - loss: 0.4089 - categorical_accuracy: 0.8877 - top_5_accuracy: 0.9784\n",
      "Epoch 94/100\n",
      "25361/25361 [==============================] - 1381s 54ms/step - loss: 0.4101 - categorical_accuracy: 0.8890 - top_5_accuracy: 0.9774\n",
      "Epoch 95/100\n",
      "25361/25361 [==============================] - 1397s 55ms/step - loss: 0.3894 - categorical_accuracy: 0.8951 - top_5_accuracy: 0.9799\n",
      "Epoch 96/100\n",
      "25361/25361 [==============================] - 1398s 55ms/step - loss: 0.3875 - categorical_accuracy: 0.8940 - top_5_accuracy: 0.9790\n",
      "Epoch 97/100\n",
      "25361/25361 [==============================] - 1383s 55ms/step - loss: 0.3867 - categorical_accuracy: 0.8933 - top_5_accuracy: 0.9806\n",
      "Epoch 98/100\n",
      "25361/25361 [==============================] - 1400s 55ms/step - loss: 0.3674 - categorical_accuracy: 0.9012 - top_5_accuracy: 0.9808\n",
      "Epoch 99/100\n",
      "25361/25361 [==============================] - 1391s 55ms/step - loss: 0.3800 - categorical_accuracy: 0.8950 - top_5_accuracy: 0.9797\n",
      "Epoch 100/100\n",
      "25361/25361 [==============================] - 1403s 55ms/step - loss: 0.3663 - categorical_accuracy: 0.9002 - top_5_accuracy: 0.9807\n"
     ]
    },
    {
     "data": {
      "text/plain": [
       "190"
      ]
     },
     "execution_count": 13,
     "metadata": {},
     "output_type": "execute_result"
    }
   ],
   "source": [
    "import gc\n",
    "history = model.fit(X, y, epochs=100, batch_size=128, verbose=1)\n",
    "gc.collect()"
   ]
  },
  {
   "cell_type": "code",
   "execution_count": 14,
   "metadata": {},
   "outputs": [
    {
     "data": {
      "image/png": "[encoded data removed]",
      "text/plain": [
       "<matplotlib.figure.Figure at 0x22001058128>"
      ]
     },
     "metadata": {},
     "output_type": "display_data"
    }
   ],
   "source": [
    "plt.plot(history.history['categorical_accuracy'])\n",
    "plt.title('Model categorical accuracy')\n",
    "plt.ylabel('categorical accuracy')\n",
    "plt.xlabel('Epoch')\n",
    "plt.show()"
   ]
  },
  {
   "cell_type": "code",
   "execution_count": 17,
   "metadata": {},
   "outputs": [
    {
     "data": {
      "image/png": "[encoded data removed]",
      "text/plain": [
       "<matplotlib.figure.Figure at 0x2203e30dc18>"
      ]
     },
     "metadata": {},
     "output_type": "display_data"
    }
   ],
   "source": [
    "plt.plot(history.history['loss'])\n",
    "plt.title('Model loss')\n",
    "plt.ylabel('loss')\n",
    "plt.xlabel('Epoch')\n",
    "plt.show()"
   ]
  },
  {
   "cell_type": "code",
   "execution_count": 18,
   "metadata": {},
   "outputs": [
    {
     "name": "stdout",
     "output_type": "stream",
     "text": [
      "7960\n"
     ]
    }
   ],
   "source": [
    "test = os.listdir(\"./input/test/\")\n",
    "print(len(test))"
   ]
  },
  {
   "cell_type": "code",
   "execution_count": 19,
   "metadata": {},
   "outputs": [],
   "source": [
    "col = ['Image']\n",
    "test_df = pd.DataFrame(test, columns=col)\n",
    "test_df['Id'] = ''"
   ]
  },
  {
   "cell_type": "code",
   "execution_count": 20,
   "metadata": {},
   "outputs": [
    {
     "name": "stdout",
     "output_type": "stream",
     "text": [
      "Preparing images\n",
      "Processing image:  1 ,  00028a005.jpg\n",
      "Processing image:  501 ,  0f9219c40.jpg\n",
      "Processing image:  1001 ,  1ea95c247.jpg\n",
      "Processing image:  1501 ,  2fe4ec2d5.jpg\n",
      "Processing image:  2001 ,  404206f77.jpg\n",
      "Processing image:  2501 ,  4fc69fd82.jpg\n",
      "Processing image:  3001 ,  5ffc2d300.jpg\n",
      "Processing image:  3501 ,  7042be267.jpg\n",
      "Processing image:  4001 ,  801c6a722.jpg\n",
      "Processing image:  4501 ,  906aa36c8.jpg\n",
      "Processing image:  5001 ,  a0d337cdc.jpg\n",
      "Processing image:  5501 ,  b1a4e4c18.jpg\n",
      "Processing image:  6001 ,  c0b378682.jpg\n",
      "Processing image:  6501 ,  cfe9d9d04.jpg\n",
      "Processing image:  7001 ,  e00620fc3.jpg\n",
      "Processing image:  7501 ,  f1b504951.jpg\n"
     ]
    }
   ],
   "source": [
    "X = prepareImages(test_df, test_df.shape[0], \"test\")\n",
    "X /= 255"
   ]
  },
  {
   "cell_type": "code",
   "execution_count": 21,
   "metadata": {},
   "outputs": [
    {
     "name": "stdout",
     "output_type": "stream",
     "text": [
      "7960/7960 [==============================] - 140s 18ms/step\n"
     ]
    }
   ],
   "source": [
    "predictions = model.predict(np.array(X), verbose=1)"
   ]
  },
  {
   "cell_type": "code",
   "execution_count": 22,
   "metadata": {},
   "outputs": [],
   "source": [
    "for i, pred in enumerate(predictions):\n",
    "    test_df.loc[i, 'Id'] = ' '.join(label_encoder.inverse_transform(pred.argsort()[-5:][::-1]))"
   ]
  },
  {
   "cell_type": "code",
   "execution_count": 23,
   "metadata": {},
   "outputs": [],
   "source": [
    "test_df.head(10)\n",
    "test_df.to_csv('submission_9.csv', index=False)"
   ]
  },
  {
   "cell_type": "code",
   "execution_count": null,
   "metadata": {
    "collapsed": true
   },
   "outputs": [],
   "source": []
  }
 ],
 "metadata": {
  "anaconda-cloud": {},
  "kernelspec": {
   "display_name": "Python 3",
   "language": "python",
   "name": "python3"
  },
  "language_info": {
   "codemirror_mode": {
    "name": "ipython",
    "version": 3
   },
   "file_extension": ".py",
   "mimetype": "text/x-python",
   "name": "python",
   "nbconvert_exporter": "python",
   "pygments_lexer": "ipython3",
   "version": "3.5.2"
  },
  "widgets": {
   "state": {},
   "version": "1.1.2"
  }
 },
 "nbformat": 4,
 "nbformat_minor": 2
}
